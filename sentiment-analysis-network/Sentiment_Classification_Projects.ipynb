{
 "cells": [
  {
   "cell_type": "markdown",
   "metadata": {},
   "source": [
    "# Sentiment Classification & How To \"Frame Problems\" for a Neural Network\n",
    "\n",
    "by Andrew Trask\n",
    "\n",
    "- **Twitter**: @iamtrask\n",
    "- **Blog**: http://iamtrask.github.io"
   ]
  },
  {
   "cell_type": "markdown",
   "metadata": {},
   "source": [
    "### What You Should Already Know\n",
    "\n",
    "- neural networks, forward and back-propagation\n",
    "- stochastic gradient descent\n",
    "- mean squared error\n",
    "- and train/test splits\n",
    "\n",
    "### Where to Get Help if You Need it\n",
    "- Re-watch previous Udacity Lectures\n",
    "- Leverage the recommended Course Reading Material - [Grokking Deep Learning](https://www.manning.com/books/grokking-deep-learning) (Check inside your classroom for a discount code)\n",
    "- Shoot me a tweet @iamtrask\n",
    "\n",
    "\n",
    "### Tutorial Outline:\n",
    "\n",
    "- Intro: The Importance of \"Framing a Problem\" (this lesson)\n",
    "\n",
    "- [Curate a Dataset](#lesson_1)\n",
    "- [Developing a \"Predictive Theory\"](#lesson_2)\n",
    "- [**PROJECT 1**: Quick Theory Validation](#project_1)\n",
    "\n",
    "\n",
    "- [Transforming Text to Numbers](#lesson_3)\n",
    "- [**PROJECT 2**: Creating the Input/Output Data](#project_2)\n",
    "\n",
    "\n",
    "- Putting it all together in a Neural Network (video only - nothing in notebook)\n",
    "- [**PROJECT 3**: Building our Neural Network](#project_3)\n",
    "\n",
    "\n",
    "- [Understanding Neural Noise](#lesson_4)\n",
    "- [**PROJECT 4**: Making Learning Faster by Reducing Noise](#project_4)\n",
    "\n",
    "\n",
    "- [Analyzing Inefficiencies in our Network](#lesson_5)\n",
    "- [**PROJECT 5**: Making our Network Train and Run Faster](#project_5)\n",
    "\n",
    "\n",
    "- [Further Noise Reduction](#lesson_6)\n",
    "- [**PROJECT 6**: Reducing Noise by Strategically Reducing the Vocabulary](#project_6)\n",
    "\n",
    "\n",
    "- [Analysis: What's going on in the weights?](#lesson_7)"
   ]
  },
  {
   "cell_type": "markdown",
   "metadata": {
    "nbpresent": {
     "id": "56bb3cba-260c-4ebe-9ed6-b995b4c72aa3"
    }
   },
   "source": [
    "# Lesson: Curate a Dataset<a id='lesson_1'></a>\n",
    "The cells from here until Project 1 include code Andrew shows in the videos leading up to mini project 1. We've included them so you can run the code along with the videos without having to type in everything."
   ]
  },
  {
   "cell_type": "code",
   "execution_count": 1,
   "metadata": {
    "nbpresent": {
     "id": "eba2b193-0419-431e-8db9-60f34dd3fe83"
    }
   },
   "outputs": [],
   "source": [
    "def pretty_print_review_and_label(i):\n",
    "    print(labels[i] + \"\\t:\\t\" + reviews[i][:80] + \"...\")\n",
    "\n",
    "g = open('reviews.txt','r') # What we know!\n",
    "reviews = list(map(lambda x:x[:-1],g.readlines()))\n",
    "g.close()\n",
    "\n",
    "g = open('labels.txt','r') # What we WANT to know!\n",
    "labels = list(map(lambda x:x[:-1].upper(),g.readlines()))\n",
    "g.close()"
   ]
  },
  {
   "cell_type": "markdown",
   "metadata": {},
   "source": [
    "**Note:** The data in `reviews.txt` we're using has already been preprocessed a bit and contains only lower case characters. If we were working from raw data, where we didn't know it was all lower case, we would want to add a step here to convert it. That's so we treat different variations of the same word, like `The`, `the`, and `THE`, all the same way."
   ]
  },
  {
   "cell_type": "code",
   "execution_count": 2,
   "metadata": {},
   "outputs": [
    {
     "data": {
      "text/plain": [
       "25000"
      ]
     },
     "execution_count": 2,
     "metadata": {},
     "output_type": "execute_result"
    }
   ],
   "source": [
    "len(reviews)"
   ]
  },
  {
   "cell_type": "code",
   "execution_count": 9,
   "metadata": {
    "nbpresent": {
     "id": "bb95574b-21a0-4213-ae50-34363cf4f87f"
    }
   },
   "outputs": [
    {
     "data": {
      "text/plain": [
       "'bromwell high is a cartoon comedy . it ran at the same time as some other programs about school life  such as  teachers  . my   years in the teaching profession lead me to believe that bromwell high  s satire is much closer to reality than is  teachers  . the scramble to survive financially  the insightful students who can see right through their pathetic teachers  pomp  the pettiness of the whole situation  all remind me of the schools i knew and their students . when i saw the episode in which a student repeatedly tried to burn down the school  i immediately recalled . . . . . . . . . at . . . . . . . . . . high . a classic line inspector i  m here to sack one of your teachers . student welcome to bromwell high . i expect that many adults of my age think that bromwell high is far fetched . what a pity that it isn  t   '"
      ]
     },
     "execution_count": 9,
     "metadata": {},
     "output_type": "execute_result"
    }
   ],
   "source": [
    "reviews[0]"
   ]
  },
  {
   "cell_type": "code",
   "execution_count": 10,
   "metadata": {
    "nbpresent": {
     "id": "e0408810-c424-4ed4-afb9-1735e9ddbd0a"
    }
   },
   "outputs": [
    {
     "data": {
      "text/plain": [
       "'POSITIVE'"
      ]
     },
     "execution_count": 10,
     "metadata": {},
     "output_type": "execute_result"
    }
   ],
   "source": [
    "labels[0]"
   ]
  },
  {
   "cell_type": "markdown",
   "metadata": {},
   "source": [
    "# Lesson: Develop a Predictive Theory<a id='lesson_2'></a>"
   ]
  },
  {
   "cell_type": "code",
   "execution_count": 11,
   "metadata": {
    "nbpresent": {
     "id": "e67a709f-234f-4493-bae6-4fb192141ee0"
    }
   },
   "outputs": [
    {
     "name": "stdout",
     "output_type": "stream",
     "text": [
      "labels.txt \t : \t reviews.txt\n",
      "\n",
      "NEGATIVE\t:\tthis movie is terrible but it has some good effects .  ...\n",
      "POSITIVE\t:\tadrian pasdar is excellent is this film . he makes a fascinating woman .  ...\n",
      "NEGATIVE\t:\tcomment this movie is impossible . is terrible  very improbable  bad interpretat...\n",
      "POSITIVE\t:\texcellent episode movie ala pulp fiction .  days   suicides . it doesnt get more...\n",
      "NEGATIVE\t:\tif you haven  t seen this  it  s terrible . it is pure trash . i saw this about ...\n",
      "POSITIVE\t:\tthis schiffer guy is a real genius  the movie is of excellent quality and both e...\n"
     ]
    }
   ],
   "source": [
    "print(\"labels.txt \\t : \\t reviews.txt\\n\")\n",
    "pretty_print_review_and_label(2137)\n",
    "pretty_print_review_and_label(12816)\n",
    "pretty_print_review_and_label(6267)\n",
    "pretty_print_review_and_label(21934)\n",
    "pretty_print_review_and_label(5297)\n",
    "pretty_print_review_and_label(4998)"
   ]
  },
  {
   "cell_type": "markdown",
   "metadata": {},
   "source": [
    "# Project 1: Quick Theory Validation<a id='project_1'></a>\n",
    "\n",
    "There are multiple ways to implement these projects, but in order to get your code closer to what Andrew shows in his solutions, we've provided some hints and starter code throughout this notebook.\n",
    "\n",
    "You'll find the [Counter](https://docs.python.org/2/library/collections.html#collections.Counter) class to be useful in this exercise, as well as the [numpy](https://docs.scipy.org/doc/numpy/reference/) library."
   ]
  },
  {
   "cell_type": "code",
   "execution_count": 14,
   "metadata": {},
   "outputs": [],
   "source": [
    "from collections import Counter\n",
    "import numpy as np"
   ]
  },
  {
   "cell_type": "markdown",
   "metadata": {},
   "source": [
    "We'll create three `Counter` objects, one for words from postive reviews, one for words from negative reviews, and one for all the words."
   ]
  },
  {
   "cell_type": "code",
   "execution_count": 15,
   "metadata": {},
   "outputs": [],
   "source": [
    "# Create three Counter objects to store positive, negative and total counts\n",
    "positive_counts = Counter()\n",
    "negative_counts = Counter()\n",
    "total_counts = Counter()"
   ]
  },
  {
   "cell_type": "markdown",
   "metadata": {},
   "source": [
    "**TODO:** Examine all the reviews. For each word in a positive review, increase the count for that word in both your positive counter and the total words counter; likewise, for each word in a negative review, increase the count for that word in both your negative counter and the total words counter.\n",
    "\n",
    "**Note:** Throughout these projects, you should use `split(' ')` to divide a piece of text (such as a review) into individual words. If you use `split()` instead, you'll get slightly different results than what the videos and solutions show."
   ]
  },
  {
   "cell_type": "code",
   "execution_count": 38,
   "metadata": {},
   "outputs": [],
   "source": [
    "# TODO: Loop over all the words in all the reviews and increment the counts in the appropriate counter objects\n",
    "for n in range(len(reviews)):\n",
    "    splitted = reviews[n].split(' ')\n",
    "    if labels[n] == 'POSITIVE':\n",
    "        for word in splitted:\n",
    "            positive_counts[word] += 1\n",
    "            total_counts[word] += 1\n",
    "    else:\n",
    "        for word in splitted:\n",
    "            negative_counts[word] += 1\n",
    "            total_counts[word] += 1"
   ]
  },
  {
   "cell_type": "markdown",
   "metadata": {},
   "source": [
    "Run the following two cells to list the words used in positive reviews and negative reviews, respectively, ordered from most to least commonly used. "
   ]
  },
  {
   "cell_type": "code",
   "execution_count": 39,
   "metadata": {},
   "outputs": [
    {
     "data": {
      "text/plain": [
       "[(' ', 3740444),\n",
       " ('', 2850468),\n",
       " ('e', 1579999),\n",
       " ('a', 1507474),\n",
       " ('t', 1288136),\n",
       " ('i', 1227957),\n",
       " ('s', 1074982),\n",
       " ('.', 986200),\n",
       " ('o', 966499),\n",
       " ('the', 898030),\n",
       " ('n', 875665),\n",
       " ('r', 803215),\n",
       " ('h', 714633),\n",
       " ('l', 590929),\n",
       " ('d', 465238),\n",
       " ('and', 464408),\n",
       " ('of', 398172),\n",
       " ('m', 375102),\n",
       " ('c', 373390),\n",
       " ('to', 345614),\n",
       " ('u', 345165),\n",
       " ('f', 300182),\n",
       " ('is', 296147),\n",
       " ('g', 272911),\n",
       " ('y', 271523),\n",
       " ('in', 259841),\n",
       " ('b', 256286),\n",
       " ('w', 256234),\n",
       " ('br', 255062),\n",
       " ('it', 248661),\n",
       " ('p', 223601),\n",
       " ('that', 184388),\n",
       " ('this', 181543),\n",
       " ('v', 165779),\n",
       " ('as', 136116),\n",
       " ('with', 120249),\n",
       " ('for', 115982),\n",
       " ('was', 113454),\n",
       " ('k', 109902),\n",
       " ('film', 108246),\n",
       " ('but', 107730),\n",
       " ('movie', 98691),\n",
       " ('his', 89012),\n",
       " ('on', 87997),\n",
       " ('you', 86363),\n",
       " ('he', 84126),\n",
       " ('are', 76688),\n",
       " ('not', 73823),\n",
       " ('one', 70713),\n",
       " ('have', 65247),\n",
       " ('be', 64240),\n",
       " ('by', 62068),\n",
       " ('all', 61836),\n",
       " ('who', 59298),\n",
       " ('an', 58433),\n",
       " ('at', 58111),\n",
       " ('from', 55718),\n",
       " ('her', 54078),\n",
       " ('they', 51457),\n",
       " ('has', 47567),\n",
       " ('so', 47298),\n",
       " ('like', 46813),\n",
       " ('about', 43084),\n",
       " ('very', 42993),\n",
       " ('out', 42195),\n",
       " ('there', 41713),\n",
       " ('she', 40158),\n",
       " ('what', 40044),\n",
       " ('or', 40018),\n",
       " ('good', 39948),\n",
       " ('more', 38942),\n",
       " ('when', 38573),\n",
       " ('some', 38542),\n",
       " ('if', 37710),\n",
       " ('just', 37066),\n",
       " ('can', 36238),\n",
       " ('story', 35006),\n",
       " ('time', 33770),\n",
       " ('my', 33570),\n",
       " ('great', 33275),\n",
       " ('well', 33182),\n",
       " ('up', 32766),\n",
       " ('which', 32449),\n",
       " ('their', 31684),\n",
       " ('j', 31506),\n",
       " ('see', 31197),\n",
       " ('also', 28695),\n",
       " ('we', 28623),\n",
       " ('really', 28297),\n",
       " ('would', 27936),\n",
       " ('will', 26980),\n",
       " ('me', 26740),\n",
       " ('had', 26673),\n",
       " ('only', 26586),\n",
       " ('him', 25935),\n",
       " ('even', 25683),\n",
       " ('other', 25215),\n",
       " ('most', 25208),\n",
       " ('were', 24823),\n",
       " ('first', 24620),\n",
       " ('than', 24503),\n",
       " ('much', 24215),\n",
       " ('its', 23895),\n",
       " ('no', 23631),\n",
       " ('into', 23560),\n",
       " ('x', 23222),\n",
       " ('people', 23203),\n",
       " ('best', 22376),\n",
       " ('love', 22204),\n",
       " ('get', 22173),\n",
       " ('how', 21821),\n",
       " ('been', 21721),\n",
       " ('life', 21668),\n",
       " ('because', 21150),\n",
       " ('way', 20897),\n",
       " ('do', 20398),\n",
       " ('made', 19792),\n",
       " ('them', 19717),\n",
       " ('films', 19709),\n",
       " ('after', 19665),\n",
       " ('many', 19447),\n",
       " ('two', 19409),\n",
       " ('too', 18918),\n",
       " ('think', 18911),\n",
       " ('movies', 18529),\n",
       " ('characters', 18491),\n",
       " ('character', 18171),\n",
       " ('don', 17962),\n",
       " ('show', 17957),\n",
       " ('man', 17838),\n",
       " ('watch', 17758),\n",
       " ('seen', 17663),\n",
       " ('then', 17400),\n",
       " ('still', 17347),\n",
       " ('little', 17325),\n",
       " ('make', 17069),\n",
       " ('could', 16746),\n",
       " ('never', 16739),\n",
       " ('being', 16622),\n",
       " ('where', 16423),\n",
       " ('does', 15814),\n",
       " ('over', 15647),\n",
       " ('any', 15516),\n",
       " ('while', 15022),\n",
       " ('know', 14672),\n",
       " ('did', 14431),\n",
       " ('years', 14319),\n",
       " ('ever', 14215),\n",
       " ('here', 14151),\n",
       " ('these', 13973),\n",
       " ('end', 13921),\n",
       " ('such', 13405),\n",
       " ('real', 13311),\n",
       " ('scene', 13264),\n",
       " ('back', 13178),\n",
       " ('those', 12835),\n",
       " ('though', 12834),\n",
       " ('off', 12766),\n",
       " ('new', 12742),\n",
       " ('your', 12681),\n",
       " ('go', 12644),\n",
       " ('acting', 12606),\n",
       " ('plot', 12582),\n",
       " ('world', 12576),\n",
       " ('say', 12538),\n",
       " ('scenes', 12532),\n",
       " ('through', 12450),\n",
       " ('z', 12389),\n",
       " ('makes', 12353),\n",
       " ('better', 12337),\n",
       " ('now', 12236),\n",
       " ('work', 12142),\n",
       " ('young', 12041),\n",
       " ('ve', 11952),\n",
       " ('old', 11922),\n",
       " ('find', 11771),\n",
       " ('both', 11654),\n",
       " ('before', 11314),\n",
       " ('series', 11238),\n",
       " ('again', 11190),\n",
       " ('us', 11157),\n",
       " ('quite', 11113),\n",
       " ('cast', 11048),\n",
       " ('something', 11043),\n",
       " ('should', 10987),\n",
       " ('q', 10884),\n",
       " ('lot', 10865),\n",
       " ('always', 10817),\n",
       " ('part', 10802),\n",
       " ('another', 10730),\n",
       " ('actors', 10609),\n",
       " ('family', 10530),\n",
       " ('director', 10514),\n",
       " ('own', 10413),\n",
       " ('between', 10376),\n",
       " ('may', 10322),\n",
       " ('same', 10194),\n",
       " ('watching', 10167),\n",
       " ('role', 10133),\n",
       " ('funny', 10110),\n",
       " ('every', 10108),\n",
       " ('doesn', 10019),\n",
       " ('few', 9971),\n",
       " ('performance', 9932),\n",
       " ('bad', 9917),\n",
       " ('look', 9842),\n",
       " ('re', 9735),\n",
       " ('things', 9588),\n",
       " ('why', 9570),\n",
       " ('times', 9490),\n",
       " ('big', 9446),\n",
       " ('however', 9293),\n",
       " ('actually', 9288),\n",
       " ('action', 9271),\n",
       " ('going', 9239),\n",
       " ('bit', 9098),\n",
       " ('comedy', 9056),\n",
       " ('down', 9036),\n",
       " ('music', 9006),\n",
       " ('must', 8971),\n",
       " ('take', 8847),\n",
       " ('long', 8773),\n",
       " ('saw', 8764),\n",
       " ('right', 8747),\n",
       " ('fact', 8739),\n",
       " ('fun', 8727),\n",
       " ('excellent', 8708),\n",
       " ('around', 8682),\n",
       " ('didn', 8676),\n",
       " ('without', 8649),\n",
       " ('thing', 8611),\n",
       " ('got', 8505),\n",
       " ('thought', 8480),\n",
       " ('each', 8457),\n",
       " ('day', 8387),\n",
       " ('feel', 8291),\n",
       " ('seems', 8265),\n",
       " ('come', 8253),\n",
       " ('done', 8219),\n",
       " ('beautiful', 8160),\n",
       " ('especially', 8135),\n",
       " ('almost', 8109),\n",
       " ('played', 8099),\n",
       " ('want', 8082),\n",
       " ('give', 8065),\n",
       " ('pretty', 8035),\n",
       " ('last', 8032),\n",
       " ('yet', 8021),\n",
       " ('since', 7873),\n",
       " ('although', 7779),\n",
       " ('different', 7773),\n",
       " ('gets', 7725),\n",
       " ('true', 7712),\n",
       " ('interesting', 7676),\n",
       " ('job', 7602),\n",
       " ('enough', 7516),\n",
       " ('our', 7509),\n",
       " ('shows', 7489),\n",
       " ('horror', 7484),\n",
       " ('woman', 7410),\n",
       " ('tv', 7283),\n",
       " ('probably', 7217),\n",
       " ('original', 7189),\n",
       " ('point', 7151),\n",
       " ('girl', 7150),\n",
       " ('plays', 7123),\n",
       " ('wonderful', 7108),\n",
       " ('father', 7106),\n",
       " ('course', 7060),\n",
       " ('far', 7009),\n",
       " ('john', 6961),\n",
       " ('rather', 6913),\n",
       " ('isn', 6871),\n",
       " ('later', 6853),\n",
       " ('ll', 6850),\n",
       " ('dvd', 6842),\n",
       " ('nothing', 6779),\n",
       " ('whole', 6776),\n",
       " ('away', 6772),\n",
       " ('screen', 6751),\n",
       " ('found', 6736),\n",
       " ('once', 6733),\n",
       " ('war', 6726),\n",
       " ('hard', 6706),\n",
       " ('year', 6698),\n",
       " ('together', 6652),\n",
       " ('set', 6619),\n",
       " ('am', 6606),\n",
       " ('having', 6561),\n",
       " ('place', 6545),\n",
       " ('making', 6535),\n",
       " ('comes', 6521),\n",
       " ('might', 6520),\n",
       " ('american', 6494),\n",
       " ('sure', 6488),\n",
       " ('perfect', 6459),\n",
       " ('kind', 6434),\n",
       " ('takes', 6430),\n",
       " ('play', 6411),\n",
       " ('performances', 6411),\n",
       " ('himself', 6370),\n",
       " ('everyone', 6340),\n",
       " ('worth', 6301),\n",
       " ('anyone', 6298),\n",
       " ('three', 6223),\n",
       " ('wife', 6215),\n",
       " ('actor', 6186),\n",
       " ('classic', 6172),\n",
       " ('goes', 6121),\n",
       " ('ending', 6114),\n",
       " ('version', 6022),\n",
       " ('star', 5952),\n",
       " ('book', 5932),\n",
       " ('enjoy', 5931),\n",
       " ('everything', 5856),\n",
       " ('nice', 5831),\n",
       " ('house', 5819),\n",
       " ('during', 5804),\n",
       " ('put', 5779),\n",
       " ('seeing', 5737),\n",
       " ('least', 5710),\n",
       " ('watched', 5662),\n",
       " ('high', 5654),\n",
       " ('loved', 5628),\n",
       " ('men', 5613),\n",
       " ('night', 5601),\n",
       " ('anything', 5584),\n",
       " ('guy', 5564),\n",
       " ('believe', 5555),\n",
       " ('top', 5523),\n",
       " ('amazing', 5479),\n",
       " ('looking', 5454),\n",
       " ('hollywood', 5447),\n",
       " ('definitely', 5411),\n",
       " ('main', 5392),\n",
       " ('episode', 5360),\n",
       " ('gives', 5359),\n",
       " ('seem', 5321),\n",
       " ('home', 5319),\n",
       " ('audience', 5270),\n",
       " ('sense', 5265),\n",
       " ('special', 5250),\n",
       " ('truly', 5247),\n",
       " ('second', 5241),\n",
       " ('fan', 5241),\n",
       " ('short', 5223),\n",
       " ('mind', 5195),\n",
       " ('full', 5174),\n",
       " ('human', 5168),\n",
       " ('help', 5165),\n",
       " ('recommend', 5165),\n",
       " ('along', 5128),\n",
       " ('black', 5119),\n",
       " ('small', 5104),\n",
       " ('trying', 5091),\n",
       " ('friends', 5074),\n",
       " ('death', 5073),\n",
       " ('remember', 5035),\n",
       " ('often', 5023),\n",
       " ('said', 5015),\n",
       " ('favorite', 4980),\n",
       " ('script', 4967),\n",
       " ('until', 4956),\n",
       " ('heart', 4953),\n",
       " ('left', 4952),\n",
       " ('let', 4943),\n",
       " ('early', 4928),\n",
       " ('today', 4881),\n",
       " ('live', 4866),\n",
       " ('less', 4830),\n",
       " ('maybe', 4827),\n",
       " ('moments', 4805),\n",
       " ('others', 4796),\n",
       " ('brilliant', 4789),\n",
       " ('shot', 4780),\n",
       " ('liked', 4774),\n",
       " ('become', 4761),\n",
       " ('won', 4741),\n",
       " ('used', 4720),\n",
       " ('style', 4666),\n",
       " ('came', 4642),\n",
       " ('lives', 4638),\n",
       " ('stars', 4599),\n",
       " ('mother', 4592),\n",
       " ('looks', 4588),\n",
       " ('cinema', 4586),\n",
       " ('perhaps', 4561),\n",
       " ('enjoyed', 4559),\n",
       " ('read', 4551),\n",
       " ('boy', 4531),\n",
       " ('drama', 4520),\n",
       " ('highly', 4514),\n",
       " ('given', 4492),\n",
       " ('playing', 4478),\n",
       " ('women', 4474),\n",
       " ('effects', 4472),\n",
       " ('use', 4465),\n",
       " ('next', 4456),\n",
       " ('kids', 4441),\n",
       " ('fine', 4424),\n",
       " ('need', 4423),\n",
       " ('entertaining', 4409),\n",
       " ('line', 4407),\n",
       " ('works', 4394),\n",
       " ('someone', 4375),\n",
       " ('picture', 4338),\n",
       " ('mr', 4327),\n",
       " ('dark', 4312),\n",
       " ('children', 4312),\n",
       " ('simply', 4310),\n",
       " ('friend', 4300),\n",
       " ('overall', 4299),\n",
       " ('keep', 4299),\n",
       " ('minutes', 4291),\n",
       " ('certainly', 4279),\n",
       " ('face', 4274),\n",
       " ('wasn', 4267),\n",
       " ('couple', 4250),\n",
       " ('history', 4244),\n",
       " ('finally', 4226),\n",
       " ('against', 4223),\n",
       " ('understand', 4174),\n",
       " ('lost', 4164),\n",
       " ('else', 4161),\n",
       " ('throughout', 4141),\n",
       " ('son', 4136),\n",
       " ('fans', 4128),\n",
       " ('michael', 4120),\n",
       " ('production', 4096),\n",
       " ('city', 4083),\n",
       " ('reason', 4080),\n",
       " ('several', 4077),\n",
       " ('written', 4067),\n",
       " ('rest', 4058),\n",
       " ('based', 4052),\n",
       " ('school', 4051),\n",
       " ('try', 4022),\n",
       " ('hope', 4004),\n",
       " ('dead', 3990),\n",
       " ('strong', 3977),\n",
       " ('white', 3959),\n",
       " ('tell', 3930),\n",
       " ('itself', 3905),\n",
       " ('half', 3880),\n",
       " ('sometimes', 3874),\n",
       " ('person', 3864),\n",
       " ('start', 3864),\n",
       " ('past', 3858),\n",
       " ('genre', 3854),\n",
       " ('art', 3844),\n",
       " ('final', 3831),\n",
       " ('beginning', 3824),\n",
       " ('idea', 3805),\n",
       " ('town', 3799),\n",
       " ('late', 3793),\n",
       " ('money', 3784),\n",
       " ('game', 3782),\n",
       " ('humor', 3781),\n",
       " ('becomes', 3780),\n",
       " ('yes', 3779),\n",
       " ('able', 3759),\n",
       " ('despite', 3759),\n",
       " ('case', 3755),\n",
       " ('side', 3725),\n",
       " ('completely', 3725),\n",
       " ('child', 3724),\n",
       " ('camera', 3724),\n",
       " ('getting', 3695),\n",
       " ('instead', 3679),\n",
       " ('soon', 3668),\n",
       " ('under', 3644),\n",
       " ('viewer', 3635),\n",
       " ('stories', 3627),\n",
       " ('days', 3596),\n",
       " ('felt', 3590),\n",
       " ('roles', 3579),\n",
       " ('age', 3572),\n",
       " ('video', 3571),\n",
       " ('simple', 3566),\n",
       " ('either', 3529),\n",
       " ('name', 3519),\n",
       " ('doing', 3517),\n",
       " ('wants', 3486),\n",
       " ('turns', 3486),\n",
       " ('wrong', 3473),\n",
       " ('close', 3470),\n",
       " ('james', 3470),\n",
       " ('title', 3447),\n",
       " ('went', 3439),\n",
       " ('episodes', 3439),\n",
       " ('budget', 3412),\n",
       " ('evil', 3399),\n",
       " ('relationship', 3394),\n",
       " ('fantastic', 3385),\n",
       " ('piece', 3373),\n",
       " ('turn', 3360),\n",
       " ('david', 3343),\n",
       " ('head', 3331),\n",
       " ('parts', 3326),\n",
       " ('absolutely', 3325),\n",
       " ('eyes', 3321),\n",
       " ('experience', 3319),\n",
       " ('murder', 3315),\n",
       " ('oscar', 3314),\n",
       " ('called', 3312),\n",
       " ('brother', 3298),\n",
       " ('lines', 3297),\n",
       " ('direction', 3296),\n",
       " ('sort', 3290),\n",
       " ('directed', 3289),\n",
       " ('sex', 3288),\n",
       " ('behind', 3277),\n",
       " ('lead', 3271),\n",
       " ('musical', 3271),\n",
       " ('actress', 3246),\n",
       " ('including', 3245),\n",
       " ('known', 3241),\n",
       " ('example', 3240),\n",
       " ('jack', 3227),\n",
       " ('already', 3211),\n",
       " ('living', 3206),\n",
       " ('chance', 3205),\n",
       " ('feeling', 3204),\n",
       " ('score', 3189),\n",
       " ('hit', 3182),\n",
       " ('moment', 3170),\n",
       " ('themselves', 3165),\n",
       " ('low', 3163),\n",
       " ('supporting', 3155),\n",
       " ('ago', 3153),\n",
       " ('voice', 3152),\n",
       " ('hilarious', 3134),\n",
       " ('reality', 3127),\n",
       " ('told', 3127),\n",
       " ('moving', 3107),\n",
       " ('quality', 3102),\n",
       " ('hand', 3101),\n",
       " ('matter', 3096),\n",
       " ('dialogue', 3096),\n",
       " ('happy', 3092),\n",
       " ('song', 3072),\n",
       " ('light', 3067),\n",
       " ('paul', 3062),\n",
       " ('finds', 3053),\n",
       " ('entire', 3052),\n",
       " ('gave', 3051),\n",
       " ('future', 3047),\n",
       " ('laugh', 3043),\n",
       " ('released', 3039),\n",
       " ('expect', 3018),\n",
       " ('fight', 3008),\n",
       " ('documentary', 3007),\n",
       " ('sound', 2996),\n",
       " ('particularly', 2994),\n",
       " ('type', 2993),\n",
       " ('police', 2983),\n",
       " ('cinematography', 2978),\n",
       " ('enjoyable', 2977),\n",
       " ('whose', 2976),\n",
       " ('husband', 2975),\n",
       " ('number', 2970),\n",
       " ('daughter', 2970),\n",
       " ('romantic', 2969),\n",
       " ('view', 2951),\n",
       " ('took', 2948),\n",
       " ('modern', 2940),\n",
       " ('superb', 2939),\n",
       " ('coming', 2936),\n",
       " ('robert', 2936),\n",
       " ('self', 2935),\n",
       " ('mean', 2930),\n",
       " ('shown', 2921),\n",
       " ('season', 2907),\n",
       " ('king', 2905),\n",
       " ('important', 2895),\n",
       " ('change', 2890),\n",
       " ('wanted', 2889),\n",
       " ('leave', 2885),\n",
       " ('somewhat', 2881),\n",
       " ('events', 2867),\n",
       " ('run', 2866),\n",
       " ('tells', 2858),\n",
       " ('heard', 2858),\n",
       " ('killer', 2853),\n",
       " ('career', 2853),\n",
       " ('country', 2848),\n",
       " ('greatest', 2844),\n",
       " ('etc', 2843),\n",
       " ('girls', 2831),\n",
       " ('starts', 2819),\n",
       " ('totally', 2813),\n",
       " ('english', 2807),\n",
       " ('care', 2805),\n",
       " ('guys', 2801),\n",
       " ('usual', 2788),\n",
       " ('animation', 2787),\n",
       " ('opinion', 2777),\n",
       " ('violence', 2776),\n",
       " ('miss', 2763),\n",
       " ('tale', 2754),\n",
       " ('british', 2750),\n",
       " ('easy', 2745),\n",
       " ('realistic', 2731),\n",
       " ('thriller', 2724),\n",
       " ('songs', 2722),\n",
       " ('says', 2720),\n",
       " ('comic', 2715),\n",
       " ('writing', 2709),\n",
       " ('television', 2694),\n",
       " ('act', 2690),\n",
       " ('writer', 2679),\n",
       " ('power', 2678),\n",
       " ('york', 2672),\n",
       " ('kid', 2665),\n",
       " ('ones', 2658),\n",
       " ('problem', 2657),\n",
       " ('rock', 2655),\n",
       " ('alone', 2649),\n",
       " ('attention', 2644),\n",
       " ('extremely', 2639),\n",
       " ('novel', 2636),\n",
       " ('french', 2624),\n",
       " ('involved', 2619),\n",
       " ('hero', 2618),\n",
       " ('stuff', 2613),\n",
       " ('kill', 2611),\n",
       " ('seemed', 2611),\n",
       " ('eye', 2586),\n",
       " ('taken', 2577),\n",
       " ('wish', 2576),\n",
       " ('sad', 2562),\n",
       " ('knows', 2560),\n",
       " ('begins', 2557),\n",
       " ('ways', 2553),\n",
       " ('atmosphere', 2548),\n",
       " ('sequence', 2541),\n",
       " ('team', 2538),\n",
       " ('perfectly', 2537),\n",
       " ('taking', 2535),\n",
       " ('similar', 2534),\n",
       " ('car', 2532),\n",
       " ('strange', 2528),\n",
       " ('surprised', 2527),\n",
       " ('due', 2526),\n",
       " ('richard', 2526),\n",
       " ('serious', 2524),\n",
       " ('george', 2522),\n",
       " ('across', 2519),\n",
       " ('room', 2518),\n",
       " ('happened', 2516),\n",
       " ('cannot', 2516),\n",
       " ('famous', 2516),\n",
       " ('class', 2515),\n",
       " ('beauty', 2513),\n",
       " ('powerful', 2512),\n",
       " ('order', 2510),\n",
       " ('four', 2507),\n",
       " ('among', 2504),\n",
       " ('cool', 2503),\n",
       " ('myself', 2502),\n",
       " ('opening', 2490),\n",
       " ('tries', 2490),\n",
       " ('herself', 2487),\n",
       " ('theme', 2487),\n",
       " ('anyway', 2479),\n",
       " ('entertainment', 2474),\n",
       " ('release', 2471),\n",
       " ('red', 2457),\n",
       " ('exactly', 2456),\n",
       " ('unique', 2449),\n",
       " ('slow', 2448),\n",
       " ('level', 2447),\n",
       " ('happen', 2446),\n",
       " ('easily', 2444),\n",
       " ('crime', 2440),\n",
       " ('ends', 2438),\n",
       " ('interest', 2428),\n",
       " ('sets', 2426),\n",
       " ('memorable', 2426),\n",
       " ('viewing', 2417),\n",
       " ('stop', 2409),\n",
       " ('problems', 2402),\n",
       " ('message', 2399),\n",
       " ('group', 2391),\n",
       " ('brought', 2387),\n",
       " ('thinking', 2386),\n",
       " ('knew', 2385),\n",
       " ('sister', 2385),\n",
       " ('dance', 2383),\n",
       " ('nature', 2382),\n",
       " ('working', 2381),\n",
       " ('believable', 2380),\n",
       " ('society', 2378),\n",
       " ('bring', 2371),\n",
       " ('mystery', 2369),\n",
       " ('couldn', 2367),\n",
       " ('lady', 2360),\n",
       " ('mostly', 2357),\n",
       " ('form', 2356),\n",
       " ('within', 2356),\n",
       " ('upon', 2353),\n",
       " ('viewers', 2349),\n",
       " ('disney', 2347),\n",
       " ('parents', 2341),\n",
       " ('usually', 2340),\n",
       " ('god', 2338),\n",
       " ('meets', 2337),\n",
       " ('soundtrack', 2335),\n",
       " ('peter', 2329),\n",
       " ('local', 2329),\n",
       " ('blood', 2327),\n",
       " ('certain', 2322),\n",
       " ('follow', 2320),\n",
       " ('possible', 2315),\n",
       " ('whether', 2308),\n",
       " ('de', 2304),\n",
       " ('emotional', 2301),\n",
       " ('middle', 2301),\n",
       " ('above', 2300),\n",
       " ('killed', 2295),\n",
       " ('happens', 2295),\n",
       " ('flick', 2291),\n",
       " ('tom', 2288),\n",
       " ('jane', 2284),\n",
       " ('needs', 2275),\n",
       " ('major', 2274),\n",
       " ('haven', 2271),\n",
       " ('named', 2269),\n",
       " ('masterpiece', 2267),\n",
       " ('th', 2264),\n",
       " ('period', 2261),\n",
       " ('words', 2258),\n",
       " ('stand', 2257),\n",
       " ('particular', 2248),\n",
       " ('earth', 2247),\n",
       " ('feature', 2244),\n",
       " ('typical', 2240),\n",
       " ('elements', 2239),\n",
       " ('romance', 2237),\n",
       " ('obviously', 2233),\n",
       " ('yourself', 2218),\n",
       " ('fantasy', 2203),\n",
       " ('showing', 2200),\n",
       " ('guess', 2199),\n",
       " ('brings', 2197),\n",
       " ('tony', 2194),\n",
       " ('huge', 2190),\n",
       " ('america', 2189),\n",
       " ('stage', 2179),\n",
       " ('talent', 2179),\n",
       " ('started', 2179),\n",
       " ('unfortunately', 2178),\n",
       " ('running', 2178),\n",
       " ('leads', 2177),\n",
       " ('indeed', 2165),\n",
       " ('personal', 2162),\n",
       " ('deal', 2158),\n",
       " ('poor', 2149),\n",
       " ('fast', 2147),\n",
       " ('dream', 2137),\n",
       " ('sweet', 2135),\n",
       " ('incredible', 2134),\n",
       " ('became', 2125),\n",
       " ('japanese', 2125),\n",
       " ('deep', 2124),\n",
       " ('hours', 2117),\n",
       " ('nearly', 2115),\n",
       " ('giving', 2114),\n",
       " ('turned', 2113),\n",
       " ('joe', 2108),\n",
       " ('clearly', 2107),\n",
       " ('five', 2107),\n",
       " ('cut', 2104),\n",
       " ('obvious', 2104),\n",
       " ('near', 2098),\n",
       " ('surprise', 2098),\n",
       " ('body', 2096),\n",
       " ('hour', 2094),\n",
       " ('era', 2086),\n",
       " ('truth', 2086),\n",
       " ('match', 2082),\n",
       " ('female', 2078),\n",
       " ('feels', 2059),\n",
       " ('learn', 2056),\n",
       " ('note', 2054),\n",
       " ('clear', 2050),\n",
       " ('except', 2050),\n",
       " ('street', 2047),\n",
       " ('lots', 2040),\n",
       " ('buy', 2034),\n",
       " ('complete', 2032),\n",
       " ('filmed', 2031),\n",
       " ('keeps', 2030),\n",
       " ('william', 2026),\n",
       " ('eventually', 2026),\n",
       " ('talking', 2024),\n",
       " ('older', 2024),\n",
       " ('meet', 2021),\n",
       " ('rating', 2018),\n",
       " ('means', 2017),\n",
       " ('shots', 2012),\n",
       " ('unlike', 2011),\n",
       " ('situation', 2010),\n",
       " ('fall', 2007),\n",
       " ('dramatic', 2001),\n",
       " ('difficult', 2001),\n",
       " ('comments', 1996),\n",
       " ('sequences', 1994),\n",
       " ('subject', 1992),\n",
       " ('present', 1985),\n",
       " ('appears', 1985),\n",
       " ('wonder', 1984),\n",
       " ('general', 1972),\n",
       " ('stewart', 1971),\n",
       " ('earlier', 1968),\n",
       " ('recommended', 1967),\n",
       " ('gone', 1967),\n",
       " ('check', 1966),\n",
       " ('suspense', 1965),\n",
       " ('ten', 1960),\n",
       " ('points', 1953),\n",
       " ('business', 1952),\n",
       " ('beyond', 1946),\n",
       " ('talk', 1944),\n",
       " ('lee', 1942),\n",
       " ('leaves', 1938),\n",
       " ('bill', 1938),\n",
       " ('third', 1934),\n",
       " ('beautifully', 1930),\n",
       " ('plenty', 1928),\n",
       " ('word', 1922),\n",
       " ('portrayal', 1921),\n",
       " ('single', 1917),\n",
       " ('whom', 1916),\n",
       " ('doubt', 1911),\n",
       " ('scary', 1911),\n",
       " ('using', 1909),\n",
       " ('hear', 1904),\n",
       " ('falls', 1903),\n",
       " ('hell', 1901),\n",
       " ('add', 1901),\n",
       " ('solid', 1900),\n",
       " ('figure', 1897),\n",
       " ('non', 1893),\n",
       " ('jokes', 1891),\n",
       " ('oh', 1890),\n",
       " ('return', 1888),\n",
       " ('forget', 1886),\n",
       " ('battle', 1886),\n",
       " ('success', 1883),\n",
       " ('touching', 1882),\n",
       " ('political', 1880),\n",
       " ('dog', 1880),\n",
       " ('awesome', 1879),\n",
       " ('recently', 1877),\n",
       " ('boys', 1876),\n",
       " ('features', 1867),\n",
       " ('wouldn', 1866),\n",
       " ('please', 1863),\n",
       " ('straight', 1861),\n",
       " ('setting', 1860),\n",
       " ('sexual', 1858),\n",
       " ('adventure', 1857),\n",
       " ('married', 1856),\n",
       " ('lack', 1856),\n",
       " ('move', 1847),\n",
       " ('call', 1844),\n",
       " ('social', 1839),\n",
       " ('mark', 1839),\n",
       " ('interested', 1838),\n",
       " ('brothers', 1837),\n",
       " ('theater', 1836),\n",
       " ('sees', 1835),\n",
       " ('space', 1832),\n",
       " ('terrific', 1830),\n",
       " ('actual', 1828),\n",
       " ('various', 1821),\n",
       " ('baby', 1821),\n",
       " ('dr', 1815),\n",
       " ('leading', 1809),\n",
       " ('kelly', 1806),\n",
       " ('animated', 1804),\n",
       " ('portrayed', 1799),\n",
       " ('disappointed', 1791),\n",
       " ('aren', 1791),\n",
       " ('western', 1790),\n",
       " ('hate', 1787),\n",
       " ('fi', 1786),\n",
       " ('screenplay', 1785),\n",
       " ('sci', 1784),\n",
       " ('towards', 1783),\n",
       " ('outstanding', 1777),\n",
       " ('decent', 1774),\n",
       " ('effective', 1763),\n",
       " ('caught', 1758),\n",
       " ('spirit', 1757),\n",
       " ('noir', 1752),\n",
       " ('none', 1751),\n",
       " ('directors', 1750),\n",
       " ('looked', 1749),\n",
       " ('popular', 1745),\n",
       " ('rich', 1744),\n",
       " ('smith', 1744),\n",
       " ('storyline', 1742),\n",
       " ('charming', 1742),\n",
       " ('manages', 1742),\n",
       " ('cold', 1739),\n",
       " ('mary', 1739),\n",
       " ('journey', 1738),\n",
       " ('acted', 1734),\n",
       " ('pace', 1731),\n",
       " ('rare', 1730),\n",
       " ('moves', 1729),\n",
       " ('boring', 1729),\n",
       " ('jim', 1729),\n",
       " ('inside', 1728),\n",
       " ('harry', 1728),\n",
       " ('open', 1727),\n",
       " ('subtle', 1724),\n",
       " ('appreciate', 1722),\n",
       " ('deserves', 1721),\n",
       " ('familiar', 1720),\n",
       " ('basically', 1719),\n",
       " ('creepy', 1718),\n",
       " ('century', 1718),\n",
       " ('mention', 1717),\n",
       " ('die', 1716),\n",
       " ('ben', 1715),\n",
       " ('background', 1715),\n",
       " ('impressive', 1705),\n",
       " ('secret', 1705),\n",
       " ('supposed', 1702),\n",
       " ('effect', 1693),\n",
       " ('natural', 1690),\n",
       " ('rate', 1688),\n",
       " ('realize', 1688),\n",
       " ('language', 1687),\n",
       " ('intelligent', 1685),\n",
       " ('material', 1684),\n",
       " ('question', 1680),\n",
       " ('saying', 1680),\n",
       " ('dancing', 1675),\n",
       " ('telling', 1673),\n",
       " ('singing', 1673),\n",
       " ('visual', 1671),\n",
       " ('imagine', 1664),\n",
       " ('adult', 1661),\n",
       " ('kept', 1657),\n",
       " ('pure', 1652),\n",
       " ('reading', 1651),\n",
       " ('review', 1651),\n",
       " ('create', 1649),\n",
       " ('magic', 1649),\n",
       " ('stunning', 1649),\n",
       " ('created', 1648),\n",
       " ('office', 1646),\n",
       " ('wait', 1646),\n",
       " ('uses', 1646),\n",
       " ('crazy', 1645),\n",
       " ('copy', 1641),\n",
       " ('scott', 1641),\n",
       " ('stay', 1640),\n",
       " ('somehow', 1638),\n",
       " ('air', 1638),\n",
       " ('seriously', 1636),\n",
       " ('hot', 1635),\n",
       " ('escape', 1629),\n",
       " ('hands', 1627),\n",
       " ('frank', 1622),\n",
       " ('previous', 1621),\n",
       " ('attempt', 1621),\n",
       " ('expected', 1619),\n",
       " ('plus', 1618),\n",
       " ('complex', 1618),\n",
       " ('male', 1615),\n",
       " ('filled', 1614),\n",
       " ('surprisingly', 1614),\n",
       " ('quickly', 1611),\n",
       " ('average', 1607),\n",
       " ('co', 1596),\n",
       " ('successful', 1596),\n",
       " ('exciting', 1595),\n",
       " ('themes', 1590),\n",
       " ('edge', 1589),\n",
       " ('following', 1588),\n",
       " ('members', 1582),\n",
       " ('minute', 1582),\n",
       " ('free', 1580),\n",
       " ('studio', 1580),\n",
       " ('reasons', 1580),\n",
       " ('images', 1578),\n",
       " ('touch', 1577),\n",
       " ('outside', 1575),\n",
       " ('ok', 1572),\n",
       " ('recent', 1571),\n",
       " ('casting', 1571),\n",
       " ('master', 1571),\n",
       " ('odd', 1568),\n",
       " ('cute', 1567),\n",
       " ('follows', 1566),\n",
       " ...]"
      ]
     },
     "execution_count": 39,
     "metadata": {},
     "output_type": "execute_result"
    }
   ],
   "source": [
    "# Examine the counts of the most common words in positive reviews\n",
    "positive_counts.most_common()"
   ]
  },
  {
   "cell_type": "code",
   "execution_count": 40,
   "metadata": {},
   "outputs": [
    {
     "data": {
      "text/plain": [
       "[(' ', 3693874),\n",
       " ('', 2903389),\n",
       " ('e', 1509699),\n",
       " ('a', 1418576),\n",
       " ('t', 1309179),\n",
       " ('i', 1210099),\n",
       " ('.', 1034906),\n",
       " ('s', 1017709),\n",
       " ('o', 960852),\n",
       " ('the', 845020),\n",
       " ('n', 831735),\n",
       " ('r', 749857),\n",
       " ('h', 695399),\n",
       " ('l', 554318),\n",
       " ('d', 457227),\n",
       " ('and', 384625),\n",
       " ('m', 360580),\n",
       " ('to', 356947),\n",
       " ('of', 356819),\n",
       " ('c', 350287),\n",
       " ('u', 345330),\n",
       " ('f', 274107),\n",
       " ('br', 272049),\n",
       " ('g', 267126),\n",
       " ('b', 265831),\n",
       " ('y', 262120),\n",
       " ('is', 259032),\n",
       " ('w', 254647),\n",
       " ('it', 250035),\n",
       " ('in', 226228),\n",
       " ('p', 219578),\n",
       " ('this', 211713),\n",
       " ('that', 194678),\n",
       " ('v', 162174),\n",
       " ('was', 136170),\n",
       " ('movie', 129330),\n",
       " ('k', 115910),\n",
       " ('for', 113411),\n",
       " ('but', 112704),\n",
       " ('with', 108051),\n",
       " ('as', 106685),\n",
       " ('film', 99342),\n",
       " ('you', 90700),\n",
       " ('on', 88926),\n",
       " ('not', 84673),\n",
       " ('have', 78435),\n",
       " ('are', 75637),\n",
       " ('be', 75230),\n",
       " ('he', 71575),\n",
       " ('one', 67899),\n",
       " ('they', 67278),\n",
       " ('at', 63507),\n",
       " ('his', 62861),\n",
       " ('all', 62331),\n",
       " ('so', 59410),\n",
       " ('like', 58106),\n",
       " ('there', 55716),\n",
       " ('just', 54892),\n",
       " ('by', 54536),\n",
       " ('an', 53120),\n",
       " ('or', 53116),\n",
       " ('who', 51520),\n",
       " ('from', 50294),\n",
       " ('if', 49213),\n",
       " ('about', 46874),\n",
       " ('out', 46431),\n",
       " ('what', 43611),\n",
       " ('some', 42910),\n",
       " ('no', 42137),\n",
       " ('her', 41056),\n",
       " ('even', 39752),\n",
       " ('can', 39605),\n",
       " ('has', 39309),\n",
       " ('good', 38433),\n",
       " ('bad', 38319),\n",
       " ('would', 36503),\n",
       " ('up', 36003),\n",
       " ('only', 35157),\n",
       " ('more', 34881),\n",
       " ('when', 34732),\n",
       " ('she', 33309),\n",
       " ('really', 32362),\n",
       " ('time', 32193),\n",
       " ('had', 31823),\n",
       " ('my', 31162),\n",
       " ('were', 31113),\n",
       " ('which', 29860),\n",
       " ('very', 29857),\n",
       " ('j', 29215),\n",
       " ('me', 29004),\n",
       " ('see', 28210),\n",
       " ('don', 27584),\n",
       " ('we', 27562),\n",
       " ('their', 27302),\n",
       " ('do', 27103),\n",
       " ('story', 26956),\n",
       " ('than', 26770),\n",
       " ('been', 26354),\n",
       " ('much', 26304),\n",
       " ('get', 26064),\n",
       " ('because', 25670),\n",
       " ('people', 24834),\n",
       " ('then', 24613),\n",
       " ('make', 24427),\n",
       " ('how', 24291),\n",
       " ('could', 24263),\n",
       " ('any', 24116),\n",
       " ('into', 23571),\n",
       " ('made', 23464),\n",
       " ('first', 22257),\n",
       " ('other', 22186),\n",
       " ('well', 22012),\n",
       " ('x', 22010),\n",
       " ('too', 21565),\n",
       " ('them', 21562),\n",
       " ('plot', 21503),\n",
       " ('movies', 21093),\n",
       " ('acting', 20995),\n",
       " ('will', 20721),\n",
       " ('way', 20656),\n",
       " ('most', 20295),\n",
       " ('him', 19949),\n",
       " ('after', 19869),\n",
       " ('its', 18895),\n",
       " ('think', 18866),\n",
       " ('characters', 18641),\n",
       " ('also', 18635),\n",
       " ('off', 18400),\n",
       " ('watch', 18366),\n",
       " ('did', 18175),\n",
       " ('character', 18140),\n",
       " ('why', 17913),\n",
       " ('being', 17532),\n",
       " ('better', 17348),\n",
       " ('know', 17260),\n",
       " ('over', 17107),\n",
       " ('seen', 16923),\n",
       " ('never', 16894),\n",
       " ('ever', 16881),\n",
       " ('your', 16711),\n",
       " ('where', 16673),\n",
       " ('two', 16386),\n",
       " ('little', 16044),\n",
       " ('films', 15924),\n",
       " ('here', 15625),\n",
       " ('nothing', 15472),\n",
       " ('say', 15426),\n",
       " ('end', 15293),\n",
       " ('something', 15192),\n",
       " ('should', 15107),\n",
       " ('many', 15074),\n",
       " ('does', 14838),\n",
       " ('thing', 14828),\n",
       " ('show', 14742),\n",
       " ('ve', 14613),\n",
       " ('scene', 14585),\n",
       " ('scenes', 14424),\n",
       " ('these', 14144),\n",
       " ('go', 14059),\n",
       " ('didn', 13739),\n",
       " ('great', 13682),\n",
       " ('watching', 13642),\n",
       " ('re', 13530),\n",
       " ('doesn', 13461),\n",
       " ('through', 13253),\n",
       " ('such', 13156),\n",
       " ('man', 12996),\n",
       " ('worst', 12864),\n",
       " ('actors', 12645),\n",
       " ('actually', 12617),\n",
       " ('while', 12558),\n",
       " ('life', 12547),\n",
       " ('back', 12539),\n",
       " ('director', 12468),\n",
       " ('funny', 12105),\n",
       " ('going', 12011),\n",
       " ('still', 11775),\n",
       " ('look', 11636),\n",
       " ('another', 11628),\n",
       " ('now', 11609),\n",
       " ('those', 11459),\n",
       " ('old', 11422),\n",
       " ('z', 11227),\n",
       " ('real', 11222),\n",
       " ('few', 11158),\n",
       " ('love', 11121),\n",
       " ('before', 11106),\n",
       " ('want', 11077),\n",
       " ('horror', 11063),\n",
       " ('minutes', 11039),\n",
       " ('pretty', 10960),\n",
       " ('best', 10815),\n",
       " ('same', 10800),\n",
       " ('though', 10793),\n",
       " ('script', 10737),\n",
       " ('work', 10476),\n",
       " ('every', 10470),\n",
       " ('seems', 10419),\n",
       " ('least', 10377),\n",
       " ('enough', 10309),\n",
       " ('down', 10270),\n",
       " ('guy', 10153),\n",
       " ('original', 10150),\n",
       " ('got', 10092),\n",
       " ('part', 10050),\n",
       " ('around', 10048),\n",
       " ('q', 9769),\n",
       " ('lot', 9762),\n",
       " ('anything', 9713),\n",
       " ('find', 9644),\n",
       " ('new', 9583),\n",
       " ('again', 9570),\n",
       " ('point', 9549),\n",
       " ('fact', 9532),\n",
       " ('isn', 9530),\n",
       " ('things', 9520),\n",
       " ('give', 9422),\n",
       " ('makes', 9359),\n",
       " ('take', 9318),\n",
       " ('thought', 9301),\n",
       " ('whole', 9142),\n",
       " ('years', 9126),\n",
       " ('long', 9116),\n",
       " ('however', 9009),\n",
       " ('gets', 8838),\n",
       " ('cast', 8785),\n",
       " ('making', 8776),\n",
       " ('big', 8621),\n",
       " ('might', 8581),\n",
       " ('interesting', 8557),\n",
       " ('money', 8493),\n",
       " ('us', 8398),\n",
       " ('far', 8381),\n",
       " ('right', 8377),\n",
       " ('without', 8274),\n",
       " ('come', 8267),\n",
       " ('quite', 8254),\n",
       " ('action', 8157),\n",
       " ('almost', 8151),\n",
       " ('ll', 8098),\n",
       " ('awful', 8089),\n",
       " ('kind', 7957),\n",
       " ('reason', 7949),\n",
       " ('am', 7915),\n",
       " ('looks', 7881),\n",
       " ('must', 7881),\n",
       " ('done', 7841),\n",
       " ('comedy', 7781),\n",
       " ('someone', 7710),\n",
       " ('wasn', 7690),\n",
       " ('trying', 7688),\n",
       " ('boring', 7668),\n",
       " ('poor', 7667),\n",
       " ('instead', 7655),\n",
       " ('saw', 7626),\n",
       " ('away', 7601),\n",
       " ('girl', 7539),\n",
       " ('probably', 7473),\n",
       " ('believe', 7417),\n",
       " ('sure', 7413),\n",
       " ('looking', 7409),\n",
       " ('stupid', 7349),\n",
       " ('anyone', 7333),\n",
       " ('maybe', 7285),\n",
       " ('world', 7268),\n",
       " ('times', 7257),\n",
       " ('last', 7214),\n",
       " ('since', 7208),\n",
       " ('terrible', 7200),\n",
       " ('rather', 7186),\n",
       " ('may', 7179),\n",
       " ('let', 7175),\n",
       " ('tv', 7152),\n",
       " ('hard', 7118),\n",
       " ('between', 7106),\n",
       " ('waste', 7056),\n",
       " ('woman', 7031),\n",
       " ('feel', 7014),\n",
       " ('effects', 6972),\n",
       " ('half', 6936),\n",
       " ('own', 6872),\n",
       " ('young', 6805),\n",
       " ('music', 6800),\n",
       " ('idea', 6780),\n",
       " ('sense', 6733),\n",
       " ('bit', 6685),\n",
       " ('book', 6666),\n",
       " ('having', 6619),\n",
       " ('found', 6556),\n",
       " ('put', 6536),\n",
       " ('series', 6532),\n",
       " ('goes', 6475),\n",
       " ('worse', 6473),\n",
       " ('said', 6359),\n",
       " ('role', 6340),\n",
       " ('main', 6331),\n",
       " ('comes', 6324),\n",
       " ('everything', 6213),\n",
       " ('else', 6200),\n",
       " ('screen', 6176),\n",
       " ('yet', 6173),\n",
       " ('low', 6148),\n",
       " ('actor', 6137),\n",
       " ('supposed', 6132),\n",
       " ('audience', 6125),\n",
       " ('ending', 6114),\n",
       " ('either', 6111),\n",
       " ('budget', 6097),\n",
       " ('set', 6086),\n",
       " ('completely', 6053),\n",
       " ('family', 6047),\n",
       " ('left', 6028),\n",
       " ('both', 5999),\n",
       " ('wrong', 5981),\n",
       " ('always', 5967),\n",
       " ('seem', 5937),\n",
       " ('place', 5927),\n",
       " ('course', 5924),\n",
       " ('watched', 5908),\n",
       " ('day', 5848),\n",
       " ('simply', 5833),\n",
       " ('shot', 5833),\n",
       " ('mean', 5774),\n",
       " ('special', 5708),\n",
       " ('dead', 5652),\n",
       " ('three', 5643),\n",
       " ('read', 5622),\n",
       " ('house', 5585),\n",
       " ('night', 5581),\n",
       " ('oh', 5574),\n",
       " ('year', 5516),\n",
       " ('high', 5516),\n",
       " ('less', 5511),\n",
       " ('camera', 5481),\n",
       " ('worth', 5455),\n",
       " ('our', 5442),\n",
       " ('horrible', 5429),\n",
       " ('try', 5421),\n",
       " ('black', 5383),\n",
       " ('sex', 5380),\n",
       " ('couldn', 5375),\n",
       " ('video', 5373),\n",
       " ('once', 5371),\n",
       " ('although', 5356),\n",
       " ('rest', 5289),\n",
       " ('line', 5277),\n",
       " ('dvd', 5276),\n",
       " ('played', 5265),\n",
       " ('production', 5195),\n",
       " ('fun', 5187),\n",
       " ('during', 5180),\n",
       " ('everyone', 5171),\n",
       " ('seeing', 5131),\n",
       " ('play', 5122),\n",
       " ('mind', 5112),\n",
       " ('kids', 5104),\n",
       " ('version', 5103),\n",
       " ('given', 5068),\n",
       " ('american', 5058),\n",
       " ('performance', 5012),\n",
       " ('used', 5007),\n",
       " ('together', 4995),\n",
       " ('tell', 4978),\n",
       " ('women', 4976),\n",
       " ('especially', 4973),\n",
       " ('need', 4938),\n",
       " ('start', 4930),\n",
       " ('second', 4929),\n",
       " ('each', 4910),\n",
       " ('takes', 4907),\n",
       " ('wife', 4895),\n",
       " ('dialogue', 4884),\n",
       " ('use', 4880),\n",
       " ('problem', 4832),\n",
       " ('star', 4829),\n",
       " ('unfortunately', 4817),\n",
       " ('himself', 4799),\n",
       " ('doing', 4798),\n",
       " ('lines', 4768),\n",
       " ('name', 4753),\n",
       " ('death', 4746),\n",
       " ('getting', 4724),\n",
       " ('killer', 4706),\n",
       " ('help', 4675),\n",
       " ('couple', 4671),\n",
       " ('fan', 4657),\n",
       " ('crap', 4639),\n",
       " ('head', 4625),\n",
       " ('guess', 4603),\n",
       " ('piece', 4579),\n",
       " ('nice', 4549),\n",
       " ('different', 4537),\n",
       " ('later', 4509),\n",
       " ('entire', 4500),\n",
       " ('school', 4500),\n",
       " ('short', 4453),\n",
       " ('seemed', 4449),\n",
       " ('john', 4437),\n",
       " ('next', 4428),\n",
       " ('shows', 4413),\n",
       " ('hollywood', 4410),\n",
       " ('person', 4394),\n",
       " ('home', 4385),\n",
       " ('true', 4385),\n",
       " ('absolutely', 4349),\n",
       " ('sort', 4341),\n",
       " ('understand', 4336),\n",
       " ('care', 4332),\n",
       " ('felt', 4328),\n",
       " ('plays', 4322),\n",
       " ('written', 4293),\n",
       " ('men', 4264),\n",
       " ('title', 4249),\n",
       " ('until', 4239),\n",
       " ('flick', 4217),\n",
       " ('decent', 4211),\n",
       " ('face', 4209),\n",
       " ('job', 4197),\n",
       " ('case', 4189),\n",
       " ('stars', 4178),\n",
       " ('friends', 4169),\n",
       " ('yes', 4152),\n",
       " ('perhaps', 4147),\n",
       " ('itself', 4145),\n",
       " ('went', 4138),\n",
       " ('called', 4125),\n",
       " ('wanted', 4109),\n",
       " ('annoying', 4103),\n",
       " ('along', 4089),\n",
       " ('tries', 4075),\n",
       " ('ridiculous', 4071),\n",
       " ('full', 4064),\n",
       " ('hour', 4061),\n",
       " ('laugh', 4060),\n",
       " ('evil', 4059),\n",
       " ('came', 4046),\n",
       " ('top', 4045),\n",
       " ('writing', 4045),\n",
       " ('keep', 3968),\n",
       " ('totally', 3968),\n",
       " ('playing', 3954),\n",
       " ('guys', 3953),\n",
       " ('god', 3940),\n",
       " ('won', 3936),\n",
       " ('already', 3919),\n",
       " ('direction', 3886),\n",
       " ('gore', 3873),\n",
       " ('save', 3868),\n",
       " ('example', 3858),\n",
       " ('lost', 3855),\n",
       " ('sound', 3848),\n",
       " ('attempt', 3809),\n",
       " ('except', 3806),\n",
       " ('war', 3799),\n",
       " ('obviously', 3795),\n",
       " ('car', 3789),\n",
       " ('moments', 3776),\n",
       " ('blood', 3773),\n",
       " ('truly', 3767),\n",
       " ('act', 3765),\n",
       " ('kill', 3759),\n",
       " ('remember', 3756),\n",
       " ('white', 3755),\n",
       " ('thinking', 3746),\n",
       " ('father', 3740),\n",
       " ('ok', 3719),\n",
       " ('finally', 3688),\n",
       " ('turn', 3673),\n",
       " ('quality', 3623),\n",
       " ('lack', 3606),\n",
       " ('style', 3602),\n",
       " ('wouldn', 3595),\n",
       " ('please', 3570),\n",
       " ('cheap', 3569),\n",
       " ('none', 3543),\n",
       " ('kid', 3541),\n",
       " ('boy', 3533),\n",
       " ('dull', 3519),\n",
       " ('seriously', 3519),\n",
       " ('lead', 3511),\n",
       " ('children', 3491),\n",
       " ('starts', 3484),\n",
       " ('hope', 3482),\n",
       " ('recommend', 3478),\n",
       " ('looked', 3478),\n",
       " ('stuff', 3475),\n",
       " ('enjoy', 3471),\n",
       " ('under', 3458),\n",
       " ('run', 3455),\n",
       " ('killed', 3450),\n",
       " ('myself', 3442),\n",
       " ('etc', 3437),\n",
       " ('others', 3435),\n",
       " ('beginning', 3431),\n",
       " ('against', 3424),\n",
       " ('hell', 3415),\n",
       " ('obvious', 3412),\n",
       " ('slow', 3404),\n",
       " ('girls', 3401),\n",
       " ('hand', 3400),\n",
       " ('small', 3399),\n",
       " ('wonder', 3389),\n",
       " ('lame', 3373),\n",
       " ('becomes', 3370),\n",
       " ('picture', 3368),\n",
       " ('based', 3358),\n",
       " ('behind', 3350),\n",
       " ('early', 3342),\n",
       " ('poorly', 3333),\n",
       " ('avoid', 3319),\n",
       " ('complete', 3315),\n",
       " ('apparently', 3305),\n",
       " ('happens', 3301),\n",
       " ('anyway', 3297),\n",
       " ('several', 3294),\n",
       " ('despite', 3288),\n",
       " ('certainly', 3281),\n",
       " ('episode', 3281),\n",
       " ('classic', 3277),\n",
       " ('become', 3266),\n",
       " ('writer', 3262),\n",
       " ('mother', 3261),\n",
       " ('cut', 3254),\n",
       " ('often', 3254),\n",
       " ('predictable', 3251),\n",
       " ('gave', 3251),\n",
       " ('close', 3247),\n",
       " ('fans', 3241),\n",
       " ('saying', 3216),\n",
       " ('live', 3212),\n",
       " ('self', 3201),\n",
       " ('scary', 3196),\n",
       " ('stop', 3193),\n",
       " ('jokes', 3179),\n",
       " ('cannot', 3174),\n",
       " ('wants', 3169),\n",
       " ('mr', 3159),\n",
       " ('friend', 3155),\n",
       " ('overall', 3131),\n",
       " ('cinema', 3127),\n",
       " ('silly', 3113),\n",
       " ('child', 3105),\n",
       " ('human', 3100),\n",
       " ('happened', 3086),\n",
       " ('expect', 3080),\n",
       " ('liked', 3071),\n",
       " ('beautiful', 3063),\n",
       " ('entertaining', 3057),\n",
       " ('actress', 3044),\n",
       " ('bunch', 3038),\n",
       " ('final', 3035),\n",
       " ('performances', 3022),\n",
       " ('says', 3008),\n",
       " ('humor', 2988),\n",
       " ('themselves', 2986),\n",
       " ('turns', 2980),\n",
       " ('eyes', 2979),\n",
       " ('hours', 2973),\n",
       " ('days', 2963),\n",
       " ('happen', 2962),\n",
       " ('call', 2959),\n",
       " ('involved', 2952),\n",
       " ('basically', 2952),\n",
       " ('running', 2950),\n",
       " ('daughter', 2947),\n",
       " ('directed', 2945),\n",
       " ('fight', 2938),\n",
       " ('disappointed', 2936),\n",
       " ('badly', 2929),\n",
       " ('group', 2922),\n",
       " ('body', 2918),\n",
       " ('sorry', 2915),\n",
       " ('interest', 2913),\n",
       " ('viewer', 2912),\n",
       " ('talking', 2909),\n",
       " ('yourself', 2906),\n",
       " ('heard', 2906),\n",
       " ('art', 2901),\n",
       " ('violence', 2897),\n",
       " ('extremely', 2895),\n",
       " ('throughout', 2894),\n",
       " ('shots', 2892),\n",
       " ('side', 2883),\n",
       " ('word', 2871),\n",
       " ('possible', 2857),\n",
       " ('game', 2850),\n",
       " ('dark', 2843),\n",
       " ('hero', 2840),\n",
       " ('leave', 2835),\n",
       " ('type', 2832),\n",
       " ('parts', 2830),\n",
       " ('single', 2827),\n",
       " ('gives', 2823),\n",
       " ('alone', 2817),\n",
       " ('started', 2817),\n",
       " ('son', 2815),\n",
       " ('rating', 2803),\n",
       " ('mess', 2799),\n",
       " ('aren', 2786),\n",
       " ('female', 2786),\n",
       " ('drama', 2784),\n",
       " ('voice', 2776),\n",
       " ('review', 2773),\n",
       " ('unless', 2771),\n",
       " ('weak', 2769),\n",
       " ('definitely', 2768),\n",
       " ('able', 2766),\n",
       " ('town', 2763),\n",
       " ('michael', 2754),\n",
       " ('effort', 2754),\n",
       " ('non', 2752),\n",
       " ('took', 2742),\n",
       " ('matter', 2736),\n",
       " ('usually', 2734),\n",
       " ('feeling', 2720),\n",
       " ('five', 2711),\n",
       " ('police', 2708),\n",
       " ('past', 2705),\n",
       " ('exactly', 2695),\n",
       " ('turned', 2692),\n",
       " ('huge', 2685),\n",
       " ('soon', 2683),\n",
       " ('sequel', 2678),\n",
       " ('tried', 2669),\n",
       " ('talent', 2668),\n",
       " ('middle', 2641),\n",
       " ('genre', 2641),\n",
       " ('ends', 2638),\n",
       " ('history', 2629),\n",
       " ('zombie', 2618),\n",
       " ('serious', 2601),\n",
       " ('straight', 2595),\n",
       " ('opening', 2585),\n",
       " ('coming', 2584),\n",
       " ('lives', 2578),\n",
       " ('moment', 2573),\n",
       " ('particularly', 2572),\n",
       " ('dialog', 2570),\n",
       " ('sad', 2566),\n",
       " ('cool', 2564),\n",
       " ('beyond', 2542),\n",
       " ('level', 2538),\n",
       " ('editing', 2538),\n",
       " ('earth', 2534),\n",
       " ('major', 2532),\n",
       " ('clearly', 2530),\n",
       " ('stories', 2523),\n",
       " ('taken', 2522),\n",
       " ('wasted', 2518),\n",
       " ('dumb', 2518),\n",
       " ('okay', 2514),\n",
       " ('joke', 2508),\n",
       " ('fast', 2500),\n",
       " ('premise', 2500),\n",
       " ('minute', 2498),\n",
       " ('mostly', 2495),\n",
       " ('rent', 2495),\n",
       " ('across', 2483),\n",
       " ('fails', 2481),\n",
       " ('late', 2479),\n",
       " ('falls', 2478),\n",
       " ('mention', 2461),\n",
       " ('theater', 2446),\n",
       " ('stay', 2440),\n",
       " ('hit', 2427),\n",
       " ('sometimes', 2427),\n",
       " ('order', 2421),\n",
       " ('fine', 2415),\n",
       " ('storyline', 2411),\n",
       " ('die', 2408),\n",
       " ('talk', 2405),\n",
       " ('pointless', 2404),\n",
       " ('taking', 2387),\n",
       " ('whatever', 2383),\n",
       " ('wish', 2374),\n",
       " ('known', 2364),\n",
       " ('write', 2362),\n",
       " ('room', 2361),\n",
       " ('told', 2360),\n",
       " ('brother', 2359),\n",
       " ('appears', 2350),\n",
       " ('career', 2349),\n",
       " ('husband', 2348),\n",
       " ('words', 2335),\n",
       " ('sit', 2330),\n",
       " ('ten', 2328),\n",
       " ('chance', 2318),\n",
       " ('living', 2316),\n",
       " ('novel', 2309),\n",
       " ('monster', 2299),\n",
       " ('english', 2294),\n",
       " ('add', 2280),\n",
       " ('somehow', 2278),\n",
       " ('hate', 2276),\n",
       " ('lee', 2275),\n",
       " ('imdb', 2270),\n",
       " ('total', 2268),\n",
       " ('strange', 2267),\n",
       " ('actual', 2267),\n",
       " ('ones', 2264),\n",
       " ('killing', 2263),\n",
       " ('knew', 2250),\n",
       " ('using', 2249),\n",
       " ('number', 2243),\n",
       " ('shown', 2241),\n",
       " ('king', 2240),\n",
       " ('material', 2240),\n",
       " ('power', 2236),\n",
       " ('giving', 2227),\n",
       " ('possibly', 2223),\n",
       " ('four', 2223),\n",
       " ('kept', 2220),\n",
       " ('works', 2218),\n",
       " ('points', 2214),\n",
       " ('usual', 2206),\n",
       " ('problems', 2203),\n",
       " ('local', 2198),\n",
       " ('opinion', 2194),\n",
       " ('including', 2191),\n",
       " ('ago', 2186),\n",
       " ('nudity', 2182),\n",
       " ('age', 2181),\n",
       " ('due', 2180),\n",
       " ('flat', 2177),\n",
       " ('murder', 2175),\n",
       " ('roles', 2175),\n",
       " ('easily', 2167),\n",
       " ('experience', 2162),\n",
       " ('decided', 2162),\n",
       " ('imagine', 2158),\n",
       " ('writers', 2157),\n",
       " ('near', 2153),\n",
       " ('reviews', 2153),\n",
       " ('feels', 2146),\n",
       " ('somewhat', 2131),\n",
       " ('plain', 2127),\n",
       " ('otherwise', 2124),\n",
       " ('class', 2124),\n",
       " ('score', 2118),\n",
       " ('whether', 2116),\n",
       " ('bring', 2111),\n",
       " ('city', 2104),\n",
       " ('cheesy', 2103),\n",
       " ('space', 2103),\n",
       " ('upon', 2101),\n",
       " ('knows', 2100),\n",
       " ('whose', 2098),\n",
       " ('average', 2098),\n",
       " ('cinematography', 2097),\n",
       " ('pathetic', 2096),\n",
       " ('nearly', 2096),\n",
       " ('credits', 2092),\n",
       " ('song', 2091),\n",
       " ('change', 2090),\n",
       " ('lots', 2085),\n",
       " ('james', 2084),\n",
       " ('nor', 2081),\n",
       " ('entertainment', 2077),\n",
       " ('needs', 2075),\n",
       " ('wait', 2074),\n",
       " ('zombies', 2073),\n",
       " ('shame', 2067),\n",
       " ('released', 2059),\n",
       " ('comments', 2050),\n",
       " ('expected', 2041),\n",
       " ('doubt', 2041),\n",
       " ('free', 2036),\n",
       " ('attention', 2036),\n",
       " ('lady', 2036),\n",
       " ('bored', 2033),\n",
       " ('needed', 2031),\n",
       " ('check', 2020),\n",
       " ('figure', 2017),\n",
       " ('development', 2016),\n",
       " ('excellent', 2015),\n",
       " ('view', 2014),\n",
       " ('clear', 2014),\n",
       " ('sets', 2004),\n",
       " ('mystery', 2003),\n",
       " ('laughable', 1995),\n",
       " ('garbage', 1993),\n",
       " ('potential', 1992),\n",
       " ('sequence', 1990),\n",
       " ('documentary', 1987),\n",
       " ('robert', 1981),\n",
       " ('ask', 1979),\n",
       " ('television', 1976),\n",
       " ('light', 1975),\n",
       " ('forced', 1975),\n",
       " ('footage', 1974),\n",
       " ('general', 1970),\n",
       " ('country', 1969),\n",
       " ('stand', 1966),\n",
       " ('begin', 1966),\n",
       " ('comic', 1965),\n",
       " ('reality', 1965),\n",
       " ('songs', 1963),\n",
       " ('fall', 1957),\n",
       " ('within', 1955),\n",
       " ('trash', 1954),\n",
       " ('above', 1949),\n",
       " ('thriller', 1941),\n",
       " ('gay', 1941),\n",
       " ('gone', 1937),\n",
       " ('important', 1937),\n",
       " ('george', 1935),\n",
       " ('means', 1934),\n",
       " ('remake', 1934),\n",
       " ('buy', 1928),\n",
       " ('hot', 1927),\n",
       " ('directing', 1927),\n",
       " ('hardly', 1926),\n",
       " ('cop', 1926),\n",
       " ('move', 1925),\n",
       " ('sounds', 1922),\n",
       " ('british', 1918),\n",
       " ('filmed', 1916),\n",
       " ('heart', 1914),\n",
       " ('forward', 1913),\n",
       " ('david', 1913),\n",
       " ('fake', 1909),\n",
       " ('rock', 1907),\n",
       " ('hear', 1906),\n",
       " ('haven', 1905),\n",
       " ('reading', 1905),\n",
       " ('enjoyed', 1900),\n",
       " ('pay', 1900),\n",
       " ('message', 1897),\n",
       " ('incredibly', 1896),\n",
       " ('weird', 1896),\n",
       " ('box', 1895),\n",
       " ('hilarious', 1894),\n",
       " ('happy', 1893),\n",
       " ('musical', 1893),\n",
       " ('laughs', 1890),\n",
       " ('third', 1871),\n",
       " ('suspense', 1871),\n",
       " ('eye', 1869),\n",
       " ('named', 1869),\n",
       " ('sadly', 1865),\n",
       " ('male', 1862),\n",
       " ('failed', 1858),\n",
       " ('similar', 1858),\n",
       " ('forget', 1856),\n",
       " ('perfect', 1854),\n",
       " ('spent', 1850),\n",
       " ('modern', 1849),\n",
       " ('events', 1848),\n",
       " ('sister', 1848),\n",
       " ('question', 1845),\n",
       " ('finds', 1839),\n",
       " ('comment', 1825),\n",
       " ('feature', 1824),\n",
       " ('result', 1824),\n",
       " ('girlfriend', 1814),\n",
       " ('elements', 1813),\n",
       " ('showing', 1812),\n",
       " ('richard', 1811),\n",
       " ('attempts', 1810),\n",
       " ('sexual', 1809),\n",
       " ('screenplay', 1808),\n",
       " ('filmmakers', 1808),\n",
       " ('neither', 1806),\n",
       " ('spoilers', 1804),\n",
       " ('miss', 1802),\n",
       " ('sequences', 1795),\n",
       " ('cover', 1793),\n",
       " ('baby', 1789),\n",
       " ('brain', 1789),\n",
       " ('red', 1778),\n",
       " ('dr', 1771),\n",
       " ('ideas', 1770),\n",
       " ('typical', 1769),\n",
       " ('worked', 1768),\n",
       " ('christmas', 1766),\n",
       " ('directors', 1765),\n",
       " ('loved', 1765),\n",
       " ('excuse', 1765),\n",
       " ('crazy', 1764),\n",
       " ('meant', 1764),\n",
       " ('fire', 1754),\n",
       " ('unbelievable', 1749),\n",
       " ('appear', 1744),\n",
       " ('follow', 1744),\n",
       " ('plus', 1741),\n",
       " ('theme', 1740),\n",
       " ('tom', 1738),\n",
       " ('producers', 1737),\n",
       " ('barely', 1736),\n",
       " ('team', 1730),\n",
       " ('leads', 1723),\n",
       " ('viewers', 1722),\n",
       " ('wrote', 1719),\n",
       " ('twist', 1717),\n",
       " ('working', 1717),\n",
       " ('strong', 1715),\n",
       " ('gun', 1712),\n",
       " ('disappointing', 1707),\n",
       " ('open', 1704),\n",
       " ('island', 1700),\n",
       " ('villain', 1699),\n",
       " ('positive', 1697),\n",
       " ('walk', 1697),\n",
       " ('honestly', 1695),\n",
       " ('yeah', 1694),\n",
       " ('realize', 1694),\n",
       " ('quickly', 1694),\n",
       " ('acted', 1693),\n",
       " ('eventually', 1692),\n",
       " ('tells', 1690),\n",
       " ('weren', 1689),\n",
       " ('slasher', 1688),\n",
       " ('period', 1687),\n",
       " ('herself', 1687),\n",
       " ('air', 1686),\n",
       " ('simple', 1686),\n",
       " ('list', 1685),\n",
       " ('apart', 1685),\n",
       " ('release', 1685),\n",
       " ('nowhere', 1683),\n",
       " ('kills', 1683),\n",
       " ('dog', 1682),\n",
       " ('makers', 1671),\n",
       " ('doctor', 1669),\n",
       " ('subject', 1668),\n",
       " ('learn', 1666),\n",
       " ('bother', 1662),\n",
       " ('admit', 1658),\n",
       " ('fi', 1655),\n",
       " ('hands', 1651),\n",
       " ('jack', 1649),\n",
       " ('disappointment', 1646),\n",
       " ('sci', 1639),\n",
       " ('value', 1639),\n",
       " ('casting', 1638),\n",
       " ('note', 1636),\n",
       " ('certain', 1635),\n",
       " ('previous', 1630),\n",
       " ('peter', 1630),\n",
       " ('missing', 1629),\n",
       " ('stick', 1625),\n",
       " ('grade', 1621),\n",
       " ('expecting', 1620),\n",
       " ('suddenly', 1617),\n",
       " ('soundtrack', 1617),\n",
       " ('break', 1615),\n",
       " ('form', 1614),\n",
       " ('relationship', 1607),\n",
       " ('concept', 1607),\n",
       " ('ended', 1605),\n",
       " ('surprise', 1604),\n",
       " ('front', 1602),\n",
       " ('surprised', 1600),\n",
       " ('ways', 1600),\n",
       " ('shoot', 1598),\n",
       " ('th', 1598),\n",
       " ('leaves', 1595),\n",
       " ('somewhere', 1594),\n",
       " ('today', 1591),\n",
       " ('painful', 1590),\n",
       " ('effect', 1588),\n",
       " ('parents', 1586),\n",
       " ('street', 1586),\n",
       " ('accent', 1585),\n",
       " ('difficult', 1585),\n",
       " ('spend', 1585),\n",
       " ('future', 1582),\n",
       " ('fighting', 1581),\n",
       " ('america', 1581),\n",
       " ('creepy', 1578),\n",
       " ('rate', 1564),\n",
       " ('truth', 1560),\n",
       " ('project', 1559),\n",
       " ('vampire', 1559),\n",
       " ('redeeming', 1556),\n",
       " ('biggest', 1555),\n",
       " ('deal', 1555),\n",
       " ('utterly', 1554),\n",
       " ('begins', 1552),\n",
       " ('revenge', 1552),\n",
       " ('indeed', 1548),\n",
       " ('japanese', 1545),\n",
       " ('joe', 1542),\n",
       " ('york', 1542),\n",
       " ('van', 1539),\n",
       " ('among', 1536),\n",
       " ('crew', 1535),\n",
       " ('create', 1534),\n",
       " ('computer', 1531),\n",
       " ('outside', 1530),\n",
       " ('interested', 1528),\n",
       " ('co', 1526),\n",
       " ('college', 1526),\n",
       " ('disney', 1525),\n",
       " ('considering', 1523),\n",
       " ('bottom', 1521),\n",
       " ('fairly', 1521),\n",
       " ('paul', 1520),\n",
       " ('sick', 1520),\n",
       " ('talented', 1516),\n",
       " ...]"
      ]
     },
     "execution_count": 40,
     "metadata": {},
     "output_type": "execute_result"
    }
   ],
   "source": [
    "# Examine the counts of the most common words in negative reviews\n",
    "negative_counts.most_common()"
   ]
  },
  {
   "cell_type": "markdown",
   "metadata": {},
   "source": [
    "As you can see, common words like \"the\" appear very often in both positive and negative reviews. Instead of finding the most common words in positive or negative reviews, what you really want are the words found in positive reviews more often than in negative reviews, and vice versa. To accomplish this, you'll need to calculate the **ratios** of word usage between positive and negative reviews.\n",
    "\n",
    "**TODO:** Check all the words you've seen and calculate the ratio of postive to negative uses and store that ratio in `pos_neg_ratios`. \n",
    ">Hint: the positive-to-negative ratio for a given word can be calculated with `positive_counts[word] / float(negative_counts[word]+1)`. Notice the `+1` in the denominator – that ensures we don't divide by zero for words that are only seen in positive reviews."
   ]
  },
  {
   "cell_type": "code",
   "execution_count": 56,
   "metadata": {},
   "outputs": [],
   "source": [
    "# Create Counter object to store positive/negative ratios\n",
    "pos_neg_ratios = Counter()\n",
    "\n",
    "# TODO: Calculate the ratios of positive and negative uses of the most common words\n",
    "#       Consider words to be \"common\" if they've been used at least 100 times\n",
    "for pair in total_counts.most_common():\n",
    "    if pair[1] >= 100:\n",
    "        word = pair[0]\n",
    "        ratio = positive_counts[word] / float(negative_counts[word]+1)\n",
    "        pos_neg_ratios[word] += ratio\n",
    "# pos_neg_ratios"
   ]
  },
  {
   "cell_type": "markdown",
   "metadata": {},
   "source": [
    "Examine the ratios you've calculated for a few words:"
   ]
  },
  {
   "cell_type": "code",
   "execution_count": 57,
   "metadata": {},
   "outputs": [
    {
     "name": "stdout",
     "output_type": "stream",
     "text": [
      "Pos-to-neg ratio for 'the' = 1.0627309853837952\n",
      "Pos-to-neg ratio for 'amazing' = 4.040560471976401\n",
      "Pos-to-neg ratio for 'terrible' = 0.17844743785585335\n"
     ]
    }
   ],
   "source": [
    "print(\"Pos-to-neg ratio for 'the' = {}\".format(pos_neg_ratios[\"the\"]))\n",
    "print(\"Pos-to-neg ratio for 'amazing' = {}\".format(pos_neg_ratios[\"amazing\"]))\n",
    "print(\"Pos-to-neg ratio for 'terrible' = {}\".format(pos_neg_ratios[\"terrible\"]))"
   ]
  },
  {
   "cell_type": "markdown",
   "metadata": {},
   "source": [
    "Looking closely at the values you just calculated, we see the following:\n",
    "\n",
    "* Words that you would expect to see more often in positive reviews – like \"amazing\" – have a ratio greater than 1. The more skewed a word is toward postive, the farther from 1 its positive-to-negative ratio  will be.\n",
    "* Words that you would expect to see more often in negative reviews – like \"terrible\" – have positive values that are less than 1. The more skewed a word is toward negative, the closer to zero its positive-to-negative ratio will be.\n",
    "* Neutral words, which don't really convey any sentiment because you would expect to see them in all sorts of reviews – like \"the\" – have values very close to 1. A perfectly neutral word – one that was used in exactly the same number of positive reviews as negative reviews – would be almost exactly 1. The `+1` we suggested you add to the denominator slightly biases words toward negative, but it won't matter because it will be a tiny bias and later we'll be ignoring words that are too close to neutral anyway.\n",
    "\n",
    "Ok, the ratios tell us which words are used more often in postive or negative reviews, but the specific values we've calculated are a bit difficult to work with. A very positive word like \"amazing\" has a value above 4, whereas a very negative word like \"terrible\" has a value around 0.18. Those values aren't easy to compare for a couple of reasons:\n",
    "\n",
    "* Right now, 1 is considered neutral, but the absolute value of the postive-to-negative rations of very postive words is larger than the absolute value of the ratios for the very negative words. So there is no way to directly compare two numbers and see if one word conveys the same magnitude of positive sentiment as another word conveys negative sentiment. So we should center all the values around netural so the absolute value fro neutral of the postive-to-negative ratio for a word would indicate how much sentiment (positive or negative) that word conveys.\n",
    "* When comparing absolute values it's easier to do that around zero than one. \n",
    "\n",
    "To fix these issues, we'll convert all of our ratios to new values using logarithms.\n",
    "\n",
    "**TODO:** Go through all the ratios you calculated and convert them to logarithms. (i.e. use `np.log(ratio)`)\n",
    "\n",
    "In the end, extremely positive and extremely negative words will have positive-to-negative ratios with similar magnitudes but opposite signs."
   ]
  },
  {
   "cell_type": "code",
   "execution_count": null,
   "metadata": {
    "collapsed": true
   },
   "outputs": [],
   "source": [
    "# TODO: Convert ratios to logs"
   ]
  },
  {
   "cell_type": "markdown",
   "metadata": {},
   "source": [
    "Examine the new ratios you've calculated for the same words from before:"
   ]
  },
  {
   "cell_type": "code",
   "execution_count": null,
   "metadata": {
    "collapsed": true
   },
   "outputs": [],
   "source": [
    "print(\"Pos-to-neg ratio for 'the' = {}\".format(pos_neg_ratios[\"the\"]))\n",
    "print(\"Pos-to-neg ratio for 'amazing' = {}\".format(pos_neg_ratios[\"amazing\"]))\n",
    "print(\"Pos-to-neg ratio for 'terrible' = {}\".format(pos_neg_ratios[\"terrible\"]))"
   ]
  },
  {
   "cell_type": "markdown",
   "metadata": {},
   "source": [
    "If everything worked, now you should see neutral words with values close to zero. In this case, \"the\" is near zero but slightly positive, so it was probably used in more positive reviews than negative reviews. But look at \"amazing\"'s ratio - it's above `1`, showing it is clearly a word with positive sentiment. And \"terrible\" has a similar score, but in the opposite direction, so it's below `-1`. It's now clear that both of these words are associated with specific, opposing sentiments.\n",
    "\n",
    "Now run the following cells to see more ratios. \n",
    "\n",
    "The first cell displays all the words, ordered by how associated they are with postive reviews. (Your notebook will most likely truncate the output so you won't actually see *all* the words in the list.)\n",
    "\n",
    "The second cell displays the 30 words most associated with negative reviews by reversing the order of the first list and then looking at the first 30 words. (If you want the second cell to display all the words, ordered by how associated they are with negative reviews, you could just write `reversed(pos_neg_ratios.most_common())`.)\n",
    "\n",
    "You should continue to see values similar to the earlier ones we checked – neutral words will be close to `0`, words will get more positive as their ratios approach and go above `1`, and words will get more negative as their ratios approach and go below `-1`. That's why we decided to use the logs instead of the raw ratios."
   ]
  },
  {
   "cell_type": "code",
   "execution_count": null,
   "metadata": {
    "collapsed": true
   },
   "outputs": [],
   "source": [
    "# words most frequently seen in a review with a \"POSITIVE\" label\n",
    "pos_neg_ratios.most_common()"
   ]
  },
  {
   "cell_type": "code",
   "execution_count": null,
   "metadata": {
    "collapsed": true
   },
   "outputs": [],
   "source": [
    "# words most frequently seen in a review with a \"NEGATIVE\" label\n",
    "list(reversed(pos_neg_ratios.most_common()))[0:30]\n",
    "\n",
    "# Note: Above is the code Andrew uses in his solution video, \n",
    "#       so we've included it here to avoid confusion.\n",
    "#       If you explore the documentation for the Counter class, \n",
    "#       you will see you could also find the 30 least common\n",
    "#       words like this: pos_neg_ratios.most_common()[:-31:-1]"
   ]
  },
  {
   "cell_type": "markdown",
   "metadata": {},
   "source": [
    "# End of Project 1. \n",
    "## Watch the next video to see Andrew's solution, then continue on to the next lesson.\n",
    "\n",
    "# Transforming Text into Numbers<a id='lesson_3'></a>\n",
    "The cells here include code Andrew shows in the next video. We've included it so you can run the code along with the video without having to type in everything."
   ]
  },
  {
   "cell_type": "code",
   "execution_count": null,
   "metadata": {
    "collapsed": true
   },
   "outputs": [],
   "source": [
    "from IPython.display import Image\n",
    "\n",
    "review = \"This was a horrible, terrible movie.\"\n",
    "\n",
    "Image(filename='sentiment_network.png')"
   ]
  },
  {
   "cell_type": "code",
   "execution_count": null,
   "metadata": {
    "collapsed": true
   },
   "outputs": [],
   "source": [
    "review = \"The movie was excellent\"\n",
    "\n",
    "Image(filename='sentiment_network_pos.png')"
   ]
  },
  {
   "cell_type": "markdown",
   "metadata": {},
   "source": [
    "# Project 2: Creating the Input/Output Data<a id='project_2'></a>\n",
    "\n",
    "**TODO:** Create a [set](https://docs.python.org/3/tutorial/datastructures.html#sets) named `vocab` that contains every word in the vocabulary."
   ]
  },
  {
   "cell_type": "code",
   "execution_count": null,
   "metadata": {
    "collapsed": true
   },
   "outputs": [],
   "source": [
    "# TODO: Create set named \"vocab\" containing all of the words from all of the reviews\n",
    "vocab = None"
   ]
  },
  {
   "cell_type": "markdown",
   "metadata": {},
   "source": [
    "Run the following cell to check your vocabulary size. If everything worked correctly, it should print **74074**"
   ]
  },
  {
   "cell_type": "code",
   "execution_count": null,
   "metadata": {
    "collapsed": true
   },
   "outputs": [],
   "source": [
    "vocab_size = len(vocab)\n",
    "print(vocab_size)"
   ]
  },
  {
   "cell_type": "markdown",
   "metadata": {},
   "source": [
    "Take a look at the following image. It represents the layers of the neural network you'll be building throughout this notebook. `layer_0` is the input layer, `layer_1` is a hidden layer, and `layer_2` is the output layer."
   ]
  },
  {
   "cell_type": "code",
   "execution_count": 1,
   "metadata": {},
   "outputs": [
    {
     "data": {
      "image/png": "[encoded data removed]",
      "text/plain": [
       "<IPython.core.display.Image object>"
      ]
     },
     "execution_count": 1,
     "metadata": {},
     "output_type": "execute_result"
    }
   ],
   "source": [
    "from IPython.display import Image\n",
    "Image(filename='sentiment_network_2.png')"
   ]
  },
  {
   "cell_type": "markdown",
   "metadata": {},
   "source": [
    "**TODO:** Create a numpy array called `layer_0` and initialize it to all zeros. You will find the [zeros](https://docs.scipy.org/doc/numpy/reference/generated/numpy.zeros.html) function particularly helpful here. Be sure you create `layer_0` as a 2-dimensional matrix with 1 row and `vocab_size` columns. "
   ]
  },
  {
   "cell_type": "code",
   "execution_count": null,
   "metadata": {
    "collapsed": true
   },
   "outputs": [],
   "source": [
    "# TODO: Create layer_0 matrix with dimensions 1 by vocab_size, initially filled with zeros\n",
    "layer_0 = None"
   ]
  },
  {
   "cell_type": "markdown",
   "metadata": {},
   "source": [
    "Run the following cell. It should display `(1, 74074)`"
   ]
  },
  {
   "cell_type": "code",
   "execution_count": null,
   "metadata": {
    "collapsed": true
   },
   "outputs": [],
   "source": [
    "layer_0.shape"
   ]
  },
  {
   "cell_type": "code",
   "execution_count": null,
   "metadata": {
    "collapsed": true
   },
   "outputs": [],
   "source": [
    "from IPython.display import Image\n",
    "Image(filename='sentiment_network.png')"
   ]
  },
  {
   "cell_type": "markdown",
   "metadata": {},
   "source": [
    "`layer_0` contains one entry for every word in the vocabulary, as shown in the above image. We need to make sure we know the index of each word, so run the following cell to create a lookup table that stores the index of every word."
   ]
  },
  {
   "cell_type": "code",
   "execution_count": null,
   "metadata": {
    "collapsed": true
   },
   "outputs": [],
   "source": [
    "# Create a dictionary of words in the vocabulary mapped to index positions\n",
    "# (to be used in layer_0)\n",
    "word2index = {}\n",
    "for i,word in enumerate(vocab):\n",
    "    word2index[word] = i\n",
    "    \n",
    "# display the map of words to indices\n",
    "word2index"
   ]
  },
  {
   "cell_type": "markdown",
   "metadata": {},
   "source": [
    "**TODO:**  Complete the implementation of `update_input_layer`. It should count \n",
    "          how many times each word is used in the given review, and then store\n",
    "          those counts at the appropriate indices inside `layer_0`."
   ]
  },
  {
   "cell_type": "code",
   "execution_count": null,
   "metadata": {
    "collapsed": true
   },
   "outputs": [],
   "source": [
    "def update_input_layer(review):\n",
    "    \"\"\" Modify the global layer_0 to represent the vector form of review.\n",
    "    The element at a given index of layer_0 should represent\n",
    "    how many times the given word occurs in the review.\n",
    "    Args:\n",
    "        review(string) - the string of the review\n",
    "    Returns:\n",
    "        None\n",
    "    \"\"\"\n",
    "    global layer_0\n",
    "    # clear out previous state by resetting the layer to be all 0s\n",
    "    layer_0 *= 0\n",
    "    \n",
    "    # TODO: count how many times each word is used in the given review and store the results in layer_0 "
   ]
  },
  {
   "cell_type": "markdown",
   "metadata": {},
   "source": [
    "Run the following cell to test updating the input layer with the first review. The indices assigned may not be the same as in the solution, but hopefully you'll see some non-zero values in `layer_0`.  "
   ]
  },
  {
   "cell_type": "code",
   "execution_count": null,
   "metadata": {
    "collapsed": true
   },
   "outputs": [],
   "source": [
    "update_input_layer(reviews[0])\n",
    "layer_0"
   ]
  },
  {
   "cell_type": "markdown",
   "metadata": {},
   "source": [
    "**TODO:** Complete the implementation of `get_target_for_labels`. It should return `0` or `1`, \n",
    "          depending on whether the given label is `NEGATIVE` or `POSITIVE`, respectively."
   ]
  },
  {
   "cell_type": "code",
   "execution_count": null,
   "metadata": {
    "collapsed": true
   },
   "outputs": [],
   "source": [
    "def get_target_for_label(label):\n",
    "    \"\"\"Convert a label to `0` or `1`.\n",
    "    Args:\n",
    "        label(string) - Either \"POSITIVE\" or \"NEGATIVE\".\n",
    "    Returns:\n",
    "        `0` or `1`.\n",
    "    \"\"\"\n",
    "    # TODO: Your code here"
   ]
  },
  {
   "cell_type": "markdown",
   "metadata": {},
   "source": [
    "Run the following two cells. They should print out`'POSITIVE'` and `1`, respectively."
   ]
  },
  {
   "cell_type": "code",
   "execution_count": null,
   "metadata": {
    "collapsed": true
   },
   "outputs": [],
   "source": [
    "labels[0]"
   ]
  },
  {
   "cell_type": "code",
   "execution_count": null,
   "metadata": {
    "collapsed": true
   },
   "outputs": [],
   "source": [
    "get_target_for_label(labels[0])"
   ]
  },
  {
   "cell_type": "markdown",
   "metadata": {},
   "source": [
    "Run the following two cells. They should print out `'NEGATIVE'` and `0`, respectively."
   ]
  },
  {
   "cell_type": "code",
   "execution_count": null,
   "metadata": {
    "collapsed": true
   },
   "outputs": [],
   "source": [
    "labels[1]"
   ]
  },
  {
   "cell_type": "code",
   "execution_count": null,
   "metadata": {
    "collapsed": true
   },
   "outputs": [],
   "source": [
    "get_target_for_label(labels[1])"
   ]
  },
  {
   "cell_type": "markdown",
   "metadata": {},
   "source": [
    "# End of Project 2. \n",
    "## Watch the next video to see Andrew's solution, then continue on to the next lesson."
   ]
  },
  {
   "cell_type": "markdown",
   "metadata": {},
   "source": [
    "# Project 3: Building a Neural Network<a id='project_3'></a>"
   ]
  },
  {
   "cell_type": "markdown",
   "metadata": {},
   "source": [
    "**TODO:** We've included the framework of a class called `SentimentNetork`. Implement all of the items marked `TODO` in the code. These include doing the following:\n",
    "- Create a basic neural network much like the networks you've seen in earlier lessons and in Project 1, with an input layer, a hidden layer, and an output layer. \n",
    "- Do **not** add a non-linearity in the hidden layer. That is, do not use an activation function when calculating the hidden layer outputs.\n",
    "- Re-use the code from earlier in this notebook to create the training data (see `TODO`s in the code)\n",
    "- Implement the `pre_process_data` function to create the vocabulary for our training data generating functions\n",
    "- Ensure `train` trains over the entire corpus"
   ]
  },
  {
   "cell_type": "markdown",
   "metadata": {},
   "source": [
    "### Where to Get Help if You Need it\n",
    "- Re-watch earlier Udacity lectures\n",
    "- Chapters 3-5 - [Grokking Deep Learning](https://www.manning.com/books/grokking-deep-learning) - (Check inside your classroom for a discount code)"
   ]
  },
  {
   "cell_type": "code",
   "execution_count": null,
   "metadata": {
    "collapsed": true
   },
   "outputs": [],
   "source": [
    "import time\n",
    "import sys\n",
    "import numpy as np\n",
    "\n",
    "# Encapsulate our neural network in a class\n",
    "class SentimentNetwork:\n",
    "    def __init__(self, reviews, labels, hidden_nodes = 10, learning_rate = 0.1):\n",
    "        \"\"\"Create a SentimenNetwork with the given settings\n",
    "        Args:\n",
    "            reviews(list) - List of reviews used for training\n",
    "            labels(list) - List of POSITIVE/NEGATIVE labels associated with the given reviews\n",
    "            hidden_nodes(int) - Number of nodes to create in the hidden layer\n",
    "            learning_rate(float) - Learning rate to use while training\n",
    "        \n",
    "        \"\"\"\n",
    "        # Assign a seed to our random number generator to ensure we get\n",
    "        # reproducable results during development \n",
    "        np.random.seed(1)\n",
    "\n",
    "        # process the reviews and their associated labels so that everything\n",
    "        # is ready for training\n",
    "        self.pre_process_data(reviews, labels)\n",
    "        \n",
    "        # Build the network to have the number of hidden nodes and the learning rate that\n",
    "        # were passed into this initializer. Make the same number of input nodes as\n",
    "        # there are vocabulary words and create a single output node.\n",
    "        self.init_network(len(self.review_vocab),hidden_nodes, 1, learning_rate)\n",
    "\n",
    "    def pre_process_data(self, reviews, labels):\n",
    "        \n",
    "        review_vocab = set()\n",
    "        # TODO: populate review_vocab with all of the words in the given reviews\n",
    "        #       Remember to split reviews into individual words \n",
    "        #       using \"split(' ')\" instead of \"split()\".\n",
    "        \n",
    "        # Convert the vocabulary set to a list so we can access words via indices\n",
    "        self.review_vocab = list(review_vocab)\n",
    "        \n",
    "        label_vocab = set()\n",
    "        # TODO: populate label_vocab with all of the words in the given labels.\n",
    "        #       There is no need to split the labels because each one is a single word.\n",
    "        \n",
    "        # Convert the label vocabulary set to a list so we can access labels via indices\n",
    "        self.label_vocab = list(label_vocab)\n",
    "        \n",
    "        # Store the sizes of the review and label vocabularies.\n",
    "        self.review_vocab_size = len(self.review_vocab)\n",
    "        self.label_vocab_size = len(self.label_vocab)\n",
    "        \n",
    "        # Create a dictionary of words in the vocabulary mapped to index positions\n",
    "        self.word2index = {}\n",
    "        # TODO: populate self.word2index with indices for all the words in self.review_vocab\n",
    "        #       like you saw earlier in the notebook\n",
    "        \n",
    "        # Create a dictionary of labels mapped to index positions\n",
    "        self.label2index = {}\n",
    "        # TODO: do the same thing you did for self.word2index and self.review_vocab, \n",
    "        #       but for self.label2index and self.label_vocab instead\n",
    "         \n",
    "        \n",
    "    def init_network(self, input_nodes, hidden_nodes, output_nodes, learning_rate):\n",
    "        # Store the number of nodes in input, hidden, and output layers.\n",
    "        self.input_nodes = input_nodes\n",
    "        self.hidden_nodes = hidden_nodes\n",
    "        self.output_nodes = output_nodes\n",
    "\n",
    "        # Store the learning rate\n",
    "        self.learning_rate = learning_rate\n",
    "\n",
    "        # Initialize weights\n",
    "        \n",
    "        # TODO: initialize self.weights_0_1 as a matrix of zeros. These are the weights between\n",
    "        #       the input layer and the hidden layer.\n",
    "        self.weights_0_1 = None\n",
    "        \n",
    "        # TODO: initialize self.weights_1_2 as a matrix of random values. \n",
    "        #       These are the weights between the hidden layer and the output layer.\n",
    "        self.weights_1_2 = None\n",
    "        \n",
    "        # TODO: Create the input layer, a two-dimensional matrix with shape \n",
    "        #       1 x input_nodes, with all values initialized to zero\n",
    "        self.layer_0 = np.zeros((1,input_nodes))\n",
    "    \n",
    "        \n",
    "    def update_input_layer(self,review):\n",
    "        # TODO: You can copy most of the code you wrote for update_input_layer \n",
    "        #       earlier in this notebook. \n",
    "        #\n",
    "        #       However, MAKE SURE YOU CHANGE ALL VARIABLES TO REFERENCE\n",
    "        #       THE VERSIONS STORED IN THIS OBJECT, NOT THE GLOBAL OBJECTS.\n",
    "        #       For example, replace \"layer_0 *= 0\" with \"self.layer_0 *= 0\"\n",
    "        pass\n",
    "                \n",
    "    def get_target_for_label(self,label):\n",
    "        # TODO: Copy the code you wrote for get_target_for_label \n",
    "        #       earlier in this notebook. \n",
    "        pass\n",
    "        \n",
    "    def sigmoid(self,x):\n",
    "        # TODO: Return the result of calculating the sigmoid activation function\n",
    "        #       shown in the lectures\n",
    "        pass\n",
    "    \n",
    "    def sigmoid_output_2_derivative(self,output):\n",
    "        # TODO: Return the derivative of the sigmoid activation function, \n",
    "        #       where \"output\" is the original output from the sigmoid fucntion \n",
    "        pass\n",
    "\n",
    "    def train(self, training_reviews, training_labels):\n",
    "        \n",
    "        # make sure out we have a matching number of reviews and labels\n",
    "        assert(len(training_reviews) == len(training_labels))\n",
    "        \n",
    "        # Keep track of correct predictions to display accuracy during training \n",
    "        correct_so_far = 0\n",
    "        \n",
    "        # Remember when we started for printing time statistics\n",
    "        start = time.time()\n",
    "\n",
    "        # loop through all the given reviews and run a forward and backward pass,\n",
    "        # updating weights for every item\n",
    "        for i in range(len(training_reviews)):\n",
    "            \n",
    "            # TODO: Get the next review and its correct label\n",
    "            \n",
    "            # TODO: Implement the forward pass through the network. \n",
    "            #       That means use the given review to update the input layer, \n",
    "            #       then calculate values for the hidden layer,\n",
    "            #       and finally calculate the output layer.\n",
    "            # \n",
    "            #       Do not use an activation function for the hidden layer,\n",
    "            #       but use the sigmoid activation function for the output layer.\n",
    "            \n",
    "            # TODO: Implement the back propagation pass here. \n",
    "            #       That means calculate the error for the forward pass's prediction\n",
    "            #       and update the weights in the network according to their\n",
    "            #       contributions toward the error, as calculated via the\n",
    "            #       gradient descent and back propagation algorithms you \n",
    "            #       learned in class.\n",
    "            \n",
    "            # TODO: Keep track of correct predictions. To determine if the prediction was\n",
    "            #       correct, check that the absolute value of the output error \n",
    "            #       is less than 0.5. If so, add one to the correct_so_far count.\n",
    "            \n",
    "            # For debug purposes, print out our prediction accuracy and speed \n",
    "            # throughout the training process. \n",
    "\n",
    "            elapsed_time = float(time.time() - start)\n",
    "            reviews_per_second = i / elapsed_time if elapsed_time > 0 else 0\n",
    "            \n",
    "            sys.stdout.write(\"\\rProgress:\" + str(100 * i/float(len(training_reviews)))[:4] \\\n",
    "                             + \"% Speed(reviews/sec):\" + str(reviews_per_second)[0:5] \\\n",
    "                             + \" #Correct:\" + str(correct_so_far) + \" #Trained:\" + str(i+1) \\\n",
    "                             + \" Training Accuracy:\" + str(correct_so_far * 100 / float(i+1))[:4] + \"%\")\n",
    "            if(i % 2500 == 0):\n",
    "                print(\"\")\n",
    "    \n",
    "    def test(self, testing_reviews, testing_labels):\n",
    "        \"\"\"\n",
    "        Attempts to predict the labels for the given testing_reviews,\n",
    "        and uses the test_labels to calculate the accuracy of those predictions.\n",
    "        \"\"\"\n",
    "        \n",
    "        # keep track of how many correct predictions we make\n",
    "        correct = 0\n",
    "\n",
    "        # we'll time how many predictions per second we make\n",
    "        start = time.time()\n",
    "\n",
    "        # Loop through each of the given reviews and call run to predict\n",
    "        # its label. \n",
    "        for i in range(len(testing_reviews)):\n",
    "            pred = self.run(testing_reviews[i])\n",
    "            if(pred == testing_labels[i]):\n",
    "                correct += 1\n",
    "            \n",
    "            # For debug purposes, print out our prediction accuracy and speed \n",
    "            # throughout the prediction process. \n",
    "\n",
    "            elapsed_time = float(time.time() - start)\n",
    "            reviews_per_second = i / elapsed_time if elapsed_time > 0 else 0\n",
    "            \n",
    "            sys.stdout.write(\"\\rProgress:\" + str(100 * i/float(len(testing_reviews)))[:4] \\\n",
    "                             + \"% Speed(reviews/sec):\" + str(reviews_per_second)[0:5] \\\n",
    "                             + \" #Correct:\" + str(correct) + \" #Tested:\" + str(i+1) \\\n",
    "                             + \" Testing Accuracy:\" + str(correct * 100 / float(i+1))[:4] + \"%\")\n",
    "    \n",
    "    def run(self, review):\n",
    "        \"\"\"\n",
    "        Returns a POSITIVE or NEGATIVE prediction for the given review.\n",
    "        \"\"\"\n",
    "        # TODO: Run a forward pass through the network, like you did in the\n",
    "        #       \"train\" function. That means use the given review to \n",
    "        #       update the input layer, then calculate values for the hidden layer,\n",
    "        #       and finally calculate the output layer.\n",
    "        #\n",
    "        #       Note: The review passed into this function for prediction \n",
    "        #             might come from anywhere, so you should convert it \n",
    "        #             to lower case prior to using it.\n",
    "        \n",
    "        # TODO: The output layer should now contain a prediction. \n",
    "        #       Return `POSITIVE` for predictions greater-than-or-equal-to `0.5`, \n",
    "        #       and `NEGATIVE` otherwise.\n",
    "        pass\n"
   ]
  },
  {
   "cell_type": "markdown",
   "metadata": {},
   "source": [
    "Run the following cell to create a `SentimentNetwork` that will train on all but the last 1000 reviews (we're saving those for testing). Here we use a learning rate of `0.1`."
   ]
  },
  {
   "cell_type": "code",
   "execution_count": null,
   "metadata": {
    "collapsed": true
   },
   "outputs": [],
   "source": [
    "mlp = SentimentNetwork(reviews[:-1000],labels[:-1000], learning_rate=0.1)"
   ]
  },
  {
   "cell_type": "markdown",
   "metadata": {},
   "source": [
    "Run the following cell to test the network's performance against the last 1000 reviews (the ones we held out from our training set). \n",
    "\n",
    "**We have not trained the model yet, so the results should be about 50% as it will just be guessing and there are only two possible values to choose from.**"
   ]
  },
  {
   "cell_type": "code",
   "execution_count": null,
   "metadata": {
    "collapsed": true
   },
   "outputs": [],
   "source": [
    "mlp.test(reviews[-1000:],labels[-1000:])"
   ]
  },
  {
   "cell_type": "markdown",
   "metadata": {},
   "source": [
    "Run the following cell to actually train the network. During training, it will display the model's accuracy repeatedly as it trains so you can see how well it's doing."
   ]
  },
  {
   "cell_type": "code",
   "execution_count": null,
   "metadata": {
    "collapsed": true
   },
   "outputs": [],
   "source": [
    "mlp.train(reviews[:-1000],labels[:-1000])"
   ]
  },
  {
   "cell_type": "markdown",
   "metadata": {},
   "source": [
    "That most likely didn't train very well. Part of the reason may be because the learning rate is too high. Run the following cell to recreate the network with a smaller learning rate, `0.01`, and then train the new network."
   ]
  },
  {
   "cell_type": "code",
   "execution_count": null,
   "metadata": {
    "collapsed": true
   },
   "outputs": [],
   "source": [
    "mlp = SentimentNetwork(reviews[:-1000],labels[:-1000], learning_rate=0.01)\n",
    "mlp.train(reviews[:-1000],labels[:-1000])"
   ]
  },
  {
   "cell_type": "markdown",
   "metadata": {},
   "source": [
    "That probably wasn't much different. Run the following cell to recreate the network one more time with an even smaller learning rate, `0.001`, and then train the new network."
   ]
  },
  {
   "cell_type": "code",
   "execution_count": null,
   "metadata": {
    "collapsed": true
   },
   "outputs": [],
   "source": [
    "mlp = SentimentNetwork(reviews[:-1000],labels[:-1000], learning_rate=0.001)\n",
    "mlp.train(reviews[:-1000],labels[:-1000])"
   ]
  },
  {
   "cell_type": "markdown",
   "metadata": {},
   "source": [
    "With a learning rate of `0.001`, the network should finally have started to improve during training. It's still not very good, but it shows that this solution has potential. We will improve it in the next lesson."
   ]
  },
  {
   "cell_type": "markdown",
   "metadata": {},
   "source": [
    "# End of Project 3. \n",
    "## Watch the next video to see Andrew's solution, then continue on to the next lesson."
   ]
  },
  {
   "cell_type": "markdown",
   "metadata": {},
   "source": [
    "# Understanding Neural Noise<a id='lesson_4'></a>\n",
    "\n",
    "The following cells include includes the code Andrew shows in the next video. We've included it here so you can run the cells along with the video without having to type in everything."
   ]
  },
  {
   "cell_type": "code",
   "execution_count": null,
   "metadata": {
    "collapsed": true
   },
   "outputs": [],
   "source": [
    "from IPython.display import Image\n",
    "Image(filename='sentiment_network.png')"
   ]
  },
  {
   "cell_type": "code",
   "execution_count": null,
   "metadata": {
    "collapsed": true
   },
   "outputs": [],
   "source": [
    "def update_input_layer(review):\n",
    "    \n",
    "    global layer_0\n",
    "    \n",
    "    # clear out previous state, reset the layer to be all 0s\n",
    "    layer_0 *= 0\n",
    "    for word in review.split(\" \"):\n",
    "        layer_0[0][word2index[word]] += 1\n",
    "\n",
    "update_input_layer(reviews[0])"
   ]
  },
  {
   "cell_type": "code",
   "execution_count": null,
   "metadata": {
    "collapsed": true
   },
   "outputs": [],
   "source": [
    "layer_0"
   ]
  },
  {
   "cell_type": "code",
   "execution_count": null,
   "metadata": {
    "collapsed": true
   },
   "outputs": [],
   "source": [
    "review_counter = Counter()"
   ]
  },
  {
   "cell_type": "code",
   "execution_count": null,
   "metadata": {
    "collapsed": true
   },
   "outputs": [],
   "source": [
    "for word in reviews[0].split(\" \"):\n",
    "    review_counter[word] += 1"
   ]
  },
  {
   "cell_type": "code",
   "execution_count": null,
   "metadata": {
    "collapsed": true
   },
   "outputs": [],
   "source": [
    "review_counter.most_common()"
   ]
  },
  {
   "cell_type": "markdown",
   "metadata": {},
   "source": [
    "# Project 4: Reducing Noise in Our Input Data<a id='project_4'></a>\n",
    "\n",
    "**TODO:** Attempt to reduce the noise in the input data like Andrew did in the previous video. Specifically, do the following:\n",
    "* Copy the `SentimentNetwork` class you created earlier into the following cell.\n",
    "* Modify `update_input_layer` so it does not count how many times each word is used, but rather just stores whether or not a word was used. "
   ]
  },
  {
   "cell_type": "code",
   "execution_count": null,
   "metadata": {
    "collapsed": true
   },
   "outputs": [],
   "source": [
    "# TODO: -Copy the SentimentNetwork class from Projet 3 lesson\n",
    "#       -Modify it to reduce noise, like in the video "
   ]
  },
  {
   "cell_type": "markdown",
   "metadata": {},
   "source": [
    "Run the following cell to recreate the network and train it. Notice we've gone back to the higher learning rate of `0.1`."
   ]
  },
  {
   "cell_type": "code",
   "execution_count": null,
   "metadata": {
    "collapsed": true
   },
   "outputs": [],
   "source": [
    "mlp = SentimentNetwork(reviews[:-1000],labels[:-1000], learning_rate=0.1)\n",
    "mlp.train(reviews[:-1000],labels[:-1000])"
   ]
  },
  {
   "cell_type": "markdown",
   "metadata": {},
   "source": [
    "That should have trained much better than the earlier attempts. It's still not wonderful, but it should have improved dramatically. Run the following cell to test your model with 1000 predictions."
   ]
  },
  {
   "cell_type": "code",
   "execution_count": null,
   "metadata": {
    "collapsed": true
   },
   "outputs": [],
   "source": [
    "mlp.test(reviews[-1000:],labels[-1000:])"
   ]
  },
  {
   "cell_type": "markdown",
   "metadata": {},
   "source": [
    "# End of Project 4. \n",
    "## Andrew's solution was actually in the previous video, so rewatch that video if you had any problems with that project. Then continue on to the next lesson.\n",
    "# Analyzing Inefficiencies in our Network<a id='lesson_5'></a>\n",
    "The following cells include the code Andrew shows in the next video. We've included it here so you can run the cells along with the video without having to type in everything."
   ]
  },
  {
   "cell_type": "code",
   "execution_count": null,
   "metadata": {
    "collapsed": true
   },
   "outputs": [],
   "source": [
    "Image(filename='sentiment_network_sparse.png')"
   ]
  },
  {
   "cell_type": "code",
   "execution_count": null,
   "metadata": {
    "collapsed": true
   },
   "outputs": [],
   "source": [
    "layer_0 = np.zeros(10)"
   ]
  },
  {
   "cell_type": "code",
   "execution_count": null,
   "metadata": {
    "collapsed": true
   },
   "outputs": [],
   "source": [
    "layer_0"
   ]
  },
  {
   "cell_type": "code",
   "execution_count": null,
   "metadata": {
    "collapsed": true
   },
   "outputs": [],
   "source": [
    "layer_0[4] = 1\n",
    "layer_0[9] = 1"
   ]
  },
  {
   "cell_type": "code",
   "execution_count": null,
   "metadata": {
    "collapsed": true
   },
   "outputs": [],
   "source": [
    "layer_0"
   ]
  },
  {
   "cell_type": "code",
   "execution_count": null,
   "metadata": {
    "collapsed": true
   },
   "outputs": [],
   "source": [
    "weights_0_1 = np.random.randn(10,5)"
   ]
  },
  {
   "cell_type": "code",
   "execution_count": null,
   "metadata": {
    "collapsed": true
   },
   "outputs": [],
   "source": [
    "layer_0.dot(weights_0_1)"
   ]
  },
  {
   "cell_type": "code",
   "execution_count": null,
   "metadata": {
    "collapsed": true
   },
   "outputs": [],
   "source": [
    "indices = [4,9]"
   ]
  },
  {
   "cell_type": "code",
   "execution_count": null,
   "metadata": {
    "collapsed": true
   },
   "outputs": [],
   "source": [
    "layer_1 = np.zeros(5)"
   ]
  },
  {
   "cell_type": "code",
   "execution_count": null,
   "metadata": {
    "collapsed": true
   },
   "outputs": [],
   "source": [
    "for index in indices:\n",
    "    layer_1 += (1 * weights_0_1[index])"
   ]
  },
  {
   "cell_type": "code",
   "execution_count": null,
   "metadata": {
    "collapsed": true
   },
   "outputs": [],
   "source": [
    "layer_1"
   ]
  },
  {
   "cell_type": "code",
   "execution_count": null,
   "metadata": {
    "collapsed": true
   },
   "outputs": [],
   "source": [
    "Image(filename='sentiment_network_sparse_2.png')"
   ]
  },
  {
   "cell_type": "code",
   "execution_count": null,
   "metadata": {
    "collapsed": true
   },
   "outputs": [],
   "source": [
    "layer_1 = np.zeros(5)"
   ]
  },
  {
   "cell_type": "code",
   "execution_count": null,
   "metadata": {
    "collapsed": true
   },
   "outputs": [],
   "source": [
    "for index in indices:\n",
    "    layer_1 += (weights_0_1[index])"
   ]
  },
  {
   "cell_type": "code",
   "execution_count": null,
   "metadata": {
    "collapsed": true
   },
   "outputs": [],
   "source": [
    "layer_1"
   ]
  },
  {
   "cell_type": "markdown",
   "metadata": {},
   "source": [
    "# Project 5: Making our Network More Efficient<a id='project_5'></a>\n",
    "**TODO:** Make the `SentimentNetwork` class more efficient by eliminating unnecessary multiplications and additions that occur during forward and backward propagation. To do that, you can do the following:\n",
    "* Copy the `SentimentNetwork` class from the previous project into the following cell.\n",
    "* Remove the `update_input_layer` function - you will not need it in this version.\n",
    "* Modify `init_network`:\n",
    ">* You no longer need a separate input layer, so remove any mention of `self.layer_0`\n",
    ">* You will be dealing with the old hidden layer more directly, so create `self.layer_1`, a two-dimensional matrix with shape 1 x hidden_nodes, with all values initialized to zero\n",
    "* Modify `train`:\n",
    ">* Change the name of the input parameter `training_reviews` to `training_reviews_raw`. This will help with the next step.\n",
    ">* At the beginning of the function, you'll want to preprocess your reviews to convert them to a list of indices (from `word2index`) that are actually used in the review. This is equivalent to what you saw in the video when Andrew set specific indices to 1. Your code should create a local `list` variable named `training_reviews` that should contain a `list` for each review in `training_reviews_raw`. Those lists should contain the indices for words found in the review.\n",
    ">* Remove call to `update_input_layer`\n",
    ">* Use `self`'s  `layer_1` instead of a local `layer_1` object.\n",
    ">* In the forward pass, replace the code that updates `layer_1` with new logic that only adds the weights for the indices used in the review.\n",
    ">* When updating `weights_0_1`, only update the individual weights that were used in the forward pass.\n",
    "* Modify `run`:\n",
    ">* Remove call to `update_input_layer` \n",
    ">* Use `self`'s  `layer_1` instead of a local `layer_1` object.\n",
    ">* Much like you did in `train`, you will need to pre-process the `review` so you can work with word indices, then update `layer_1` by adding weights for the indices used in the review."
   ]
  },
  {
   "cell_type": "code",
   "execution_count": null,
   "metadata": {
    "collapsed": true
   },
   "outputs": [],
   "source": [
    "# TODO: -Copy the SentimentNetwork class from Project 4 lesson\n",
    "#       -Modify it according to the above instructions "
   ]
  },
  {
   "cell_type": "markdown",
   "metadata": {},
   "source": [
    "Run the following cell to recreate the network and train it once again."
   ]
  },
  {
   "cell_type": "code",
   "execution_count": null,
   "metadata": {
    "collapsed": true
   },
   "outputs": [],
   "source": [
    "mlp = SentimentNetwork(reviews[:-1000],labels[:-1000], learning_rate=0.1)\n",
    "mlp.train(reviews[:-1000],labels[:-1000])"
   ]
  },
  {
   "cell_type": "markdown",
   "metadata": {},
   "source": [
    "That should have trained much better than the earlier attempts. Run the following cell to test your model with 1000 predictions."
   ]
  },
  {
   "cell_type": "code",
   "execution_count": null,
   "metadata": {
    "collapsed": true
   },
   "outputs": [],
   "source": [
    "mlp.test(reviews[-1000:],labels[-1000:])"
   ]
  },
  {
   "cell_type": "markdown",
   "metadata": {},
   "source": [
    "# End of Project 5. \n",
    "## Watch the next video to see Andrew's solution, then continue on to the next lesson.\n",
    "# Further Noise Reduction<a id='lesson_6'></a>"
   ]
  },
  {
   "cell_type": "code",
   "execution_count": null,
   "metadata": {
    "collapsed": true
   },
   "outputs": [],
   "source": [
    "Image(filename='sentiment_network_sparse_2.png')"
   ]
  },
  {
   "cell_type": "code",
   "execution_count": null,
   "metadata": {
    "collapsed": true
   },
   "outputs": [],
   "source": [
    "# words most frequently seen in a review with a \"POSITIVE\" label\n",
    "pos_neg_ratios.most_common()"
   ]
  },
  {
   "cell_type": "code",
   "execution_count": null,
   "metadata": {
    "collapsed": true
   },
   "outputs": [],
   "source": [
    "# words most frequently seen in a review with a \"NEGATIVE\" label\n",
    "list(reversed(pos_neg_ratios.most_common()))[0:30]"
   ]
  },
  {
   "cell_type": "code",
   "execution_count": null,
   "metadata": {
    "collapsed": true
   },
   "outputs": [],
   "source": [
    "from bokeh.models import ColumnDataSource, LabelSet\n",
    "from bokeh.plotting import figure, show, output_file\n",
    "from bokeh.io import output_notebook\n",
    "output_notebook()"
   ]
  },
  {
   "cell_type": "code",
   "execution_count": null,
   "metadata": {
    "collapsed": true
   },
   "outputs": [],
   "source": [
    "hist, edges = np.histogram(list(map(lambda x:x[1],pos_neg_ratios.most_common())), density=True, bins=100, normed=True)\n",
    "\n",
    "p = figure(tools=\"pan,wheel_zoom,reset,save\",\n",
    "           toolbar_location=\"above\",\n",
    "           title=\"Word Positive/Negative Affinity Distribution\")\n",
    "p.quad(top=hist, bottom=0, left=edges[:-1], right=edges[1:], line_color=\"#555555\")\n",
    "show(p)"
   ]
  },
  {
   "cell_type": "code",
   "execution_count": null,
   "metadata": {
    "collapsed": true
   },
   "outputs": [],
   "source": [
    "frequency_frequency = Counter()\n",
    "\n",
    "for word, cnt in total_counts.most_common():\n",
    "    frequency_frequency[cnt] += 1"
   ]
  },
  {
   "cell_type": "code",
   "execution_count": null,
   "metadata": {
    "collapsed": true
   },
   "outputs": [],
   "source": [
    "hist, edges = np.histogram(list(map(lambda x:x[1],frequency_frequency.most_common())), density=True, bins=100, normed=True)\n",
    "\n",
    "p = figure(tools=\"pan,wheel_zoom,reset,save\",\n",
    "           toolbar_location=\"above\",\n",
    "           title=\"The frequency distribution of the words in our corpus\")\n",
    "p.quad(top=hist, bottom=0, left=edges[:-1], right=edges[1:], line_color=\"#555555\")\n",
    "show(p)"
   ]
  },
  {
   "cell_type": "markdown",
   "metadata": {},
   "source": [
    "# Project 6: Reducing Noise by Strategically Reducing the Vocabulary<a id='project_6'></a>\n",
    "\n",
    "**TODO:** Improve `SentimentNetwork`'s performance by reducing more noise in the vocabulary. Specifically, do the following:\n",
    "* Copy the `SentimentNetwork` class from the previous project into the following cell.\n",
    "* Modify `pre_process_data`:\n",
    ">* Add two additional parameters: `min_count` and `polarity_cutoff`\n",
    ">* Calculate the positive-to-negative ratios of words used in the reviews. (You can use code you've written elsewhere in the notebook, but we are moving it into the class like we did with other helper code earlier.)\n",
    ">* Andrew's solution only calculates a postive-to-negative ratio for words that occur at least 50 times. This keeps the network from attributing too much sentiment to rarer words. You can choose to add this to your solution if you would like.  \n",
    ">* Change so words are only added to the vocabulary if they occur in the vocabulary more than `min_count` times.\n",
    ">* Change so words are only added to the vocabulary if the absolute value of their postive-to-negative ratio is at least `polarity_cutoff`\n",
    "* Modify `__init__`:\n",
    ">* Add the same two parameters (`min_count` and `polarity_cutoff`) and use them when you call `pre_process_data`"
   ]
  },
  {
   "cell_type": "code",
   "execution_count": null,
   "metadata": {
    "collapsed": true
   },
   "outputs": [],
   "source": [
    "# TODO: -Copy the SentimentNetwork class from Project 5 lesson\n",
    "#       -Modify it according to the above instructions "
   ]
  },
  {
   "cell_type": "markdown",
   "metadata": {},
   "source": [
    "Run the following cell to train your network with a small polarity cutoff."
   ]
  },
  {
   "cell_type": "code",
   "execution_count": null,
   "metadata": {
    "collapsed": true
   },
   "outputs": [],
   "source": [
    "mlp = SentimentNetwork(reviews[:-1000],labels[:-1000],min_count=20,polarity_cutoff=0.05,learning_rate=0.01)\n",
    "mlp.train(reviews[:-1000],labels[:-1000])"
   ]
  },
  {
   "cell_type": "markdown",
   "metadata": {},
   "source": [
    "And run the following cell to test it's performance. It should be "
   ]
  },
  {
   "cell_type": "code",
   "execution_count": null,
   "metadata": {
    "collapsed": true
   },
   "outputs": [],
   "source": [
    "mlp.test(reviews[-1000:],labels[-1000:])"
   ]
  },
  {
   "cell_type": "markdown",
   "metadata": {},
   "source": [
    "Run the following cell to train your network with a much larger polarity cutoff."
   ]
  },
  {
   "cell_type": "code",
   "execution_count": null,
   "metadata": {
    "collapsed": true
   },
   "outputs": [],
   "source": [
    "mlp = SentimentNetwork(reviews[:-1000],labels[:-1000],min_count=20,polarity_cutoff=0.8,learning_rate=0.01)\n",
    "mlp.train(reviews[:-1000],labels[:-1000])"
   ]
  },
  {
   "cell_type": "markdown",
   "metadata": {},
   "source": [
    "And run the following cell to test it's performance."
   ]
  },
  {
   "cell_type": "code",
   "execution_count": null,
   "metadata": {
    "collapsed": true
   },
   "outputs": [],
   "source": [
    "mlp.test(reviews[-1000:],labels[-1000:])"
   ]
  },
  {
   "cell_type": "markdown",
   "metadata": {},
   "source": [
    "# End of Project 6. \n",
    "## Watch the next video to see Andrew's solution, then continue on to the next lesson."
   ]
  },
  {
   "cell_type": "markdown",
   "metadata": {
    "collapsed": true
   },
   "source": [
    "# Analysis: What's Going on in the Weights?<a id='lesson_7'></a>"
   ]
  },
  {
   "cell_type": "code",
   "execution_count": null,
   "metadata": {
    "collapsed": true
   },
   "outputs": [],
   "source": [
    "mlp_full = SentimentNetwork(reviews[:-1000],labels[:-1000],min_count=0,polarity_cutoff=0,learning_rate=0.01)"
   ]
  },
  {
   "cell_type": "code",
   "execution_count": null,
   "metadata": {
    "collapsed": true
   },
   "outputs": [],
   "source": [
    "mlp_full.train(reviews[:-1000],labels[:-1000])"
   ]
  },
  {
   "cell_type": "code",
   "execution_count": null,
   "metadata": {
    "collapsed": true
   },
   "outputs": [],
   "source": [
    "Image(filename='sentiment_network_sparse.png')"
   ]
  },
  {
   "cell_type": "code",
   "execution_count": null,
   "metadata": {
    "collapsed": true
   },
   "outputs": [],
   "source": [
    "def get_most_similar_words(focus = \"horrible\"):\n",
    "    most_similar = Counter()\n",
    "\n",
    "    for word in mlp_full.word2index.keys():\n",
    "        most_similar[word] = np.dot(mlp_full.weights_0_1[mlp_full.word2index[word]],mlp_full.weights_0_1[mlp_full.word2index[focus]])\n",
    "    \n",
    "    return most_similar.most_common()"
   ]
  },
  {
   "cell_type": "code",
   "execution_count": null,
   "metadata": {
    "collapsed": true
   },
   "outputs": [],
   "source": [
    "get_most_similar_words(\"excellent\")"
   ]
  },
  {
   "cell_type": "code",
   "execution_count": null,
   "metadata": {
    "collapsed": true
   },
   "outputs": [],
   "source": [
    "get_most_similar_words(\"terrible\")"
   ]
  },
  {
   "cell_type": "code",
   "execution_count": null,
   "metadata": {
    "collapsed": true
   },
   "outputs": [],
   "source": [
    "import matplotlib.colors as colors\n",
    "\n",
    "words_to_visualize = list()\n",
    "for word, ratio in pos_neg_ratios.most_common(500):\n",
    "    if(word in mlp_full.word2index.keys()):\n",
    "        words_to_visualize.append(word)\n",
    "    \n",
    "for word, ratio in list(reversed(pos_neg_ratios.most_common()))[0:500]:\n",
    "    if(word in mlp_full.word2index.keys()):\n",
    "        words_to_visualize.append(word)"
   ]
  },
  {
   "cell_type": "code",
   "execution_count": null,
   "metadata": {
    "collapsed": true
   },
   "outputs": [],
   "source": [
    "pos = 0\n",
    "neg = 0\n",
    "\n",
    "colors_list = list()\n",
    "vectors_list = list()\n",
    "for word in words_to_visualize:\n",
    "    if word in pos_neg_ratios.keys():\n",
    "        vectors_list.append(mlp_full.weights_0_1[mlp_full.word2index[word]])\n",
    "        if(pos_neg_ratios[word] > 0):\n",
    "            pos+=1\n",
    "            colors_list.append(\"#00ff00\")\n",
    "        else:\n",
    "            neg+=1\n",
    "            colors_list.append(\"#000000\")"
   ]
  },
  {
   "cell_type": "code",
   "execution_count": null,
   "metadata": {
    "collapsed": true
   },
   "outputs": [],
   "source": [
    "from sklearn.manifold import TSNE\n",
    "tsne = TSNE(n_components=2, random_state=0)\n",
    "words_top_ted_tsne = tsne.fit_transform(vectors_list)"
   ]
  },
  {
   "cell_type": "code",
   "execution_count": null,
   "metadata": {
    "collapsed": true
   },
   "outputs": [],
   "source": [
    "p = figure(tools=\"pan,wheel_zoom,reset,save\",\n",
    "           toolbar_location=\"above\",\n",
    "           title=\"vector T-SNE for most polarized words\")\n",
    "\n",
    "source = ColumnDataSource(data=dict(x1=words_top_ted_tsne[:,0],\n",
    "                                    x2=words_top_ted_tsne[:,1],\n",
    "                                    names=words_to_visualize,\n",
    "                                    color=colors_list))\n",
    "\n",
    "p.scatter(x=\"x1\", y=\"x2\", size=8, source=source, fill_color=\"color\")\n",
    "\n",
    "word_labels = LabelSet(x=\"x1\", y=\"x2\", text=\"names\", y_offset=6,\n",
    "                  text_font_size=\"8pt\", text_color=\"#555555\",\n",
    "                  source=source, text_align='center')\n",
    "p.add_layout(word_labels)\n",
    "\n",
    "show(p)\n",
    "\n",
    "# green indicates positive words, black indicates negative words"
   ]
  }
 ],
 "metadata": {
  "anaconda-cloud": {},
  "kernelspec": {
   "display_name": "Python 3",
   "language": "python",
   "name": "python3"
  },
  "language_info": {
   "codemirror_mode": {
    "name": "ipython",
    "version": 3
   },
   "file_extension": ".py",
   "mimetype": "text/x-python",
   "name": "python",
   "nbconvert_exporter": "python",
   "pygments_lexer": "ipython3",
   "version": "3.7.2"
  }
 },
 "nbformat": 4,
 "nbformat_minor": 1
}
